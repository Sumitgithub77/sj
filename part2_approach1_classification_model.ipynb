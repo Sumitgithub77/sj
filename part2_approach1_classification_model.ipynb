{
 "cells": [
  {
   "cell_type": "code",
   "execution_count": 2,
   "id": "aKN54d1rKUQk",
   "metadata": {
    "colab": {
     "base_uri": "https://localhost:8080/"
    },
    "executionInfo": {
     "elapsed": 104353,
     "status": "ok",
     "timestamp": 1660639052720,
     "user": {
      "displayName": "lukmanul hakeem",
      "userId": "05969570853284345536"
     },
     "user_tz": -330
    },
    "id": "aKN54d1rKUQk",
    "outputId": "328c427a-f936-49b4-97ea-1a4aa918d4e1"
   },
   "outputs": [
    {
     "name": "stdout",
     "output_type": "stream",
     "text": [
      "Mounted at /content/drive\n"
     ]
    }
   ],
   "source": [
    "from google.colab import drive\n",
    "drive.mount('/content/drive')"
   ]
  },
  {
   "cell_type": "code",
   "execution_count": 3,
   "id": "dl_ramRRKSLz",
   "metadata": {
    "colab": {
     "base_uri": "https://localhost:8080/"
    },
    "executionInfo": {
     "elapsed": 928,
     "status": "ok",
     "timestamp": 1660639062605,
     "user": {
      "displayName": "lukmanul hakeem",
      "userId": "05969570853284345536"
     },
     "user_tz": -330
    },
    "id": "dl_ramRRKSLz",
    "outputId": "144bff8b-3141-4e64-bc80-022c0af3f9df"
   },
   "outputs": [
    {
     "name": "stdout",
     "output_type": "stream",
     "text": [
      "/content/drive/MyDrive/works/client-project/stock-inventory-business-case/project-group.zip (Unzipped Files)\n"
     ]
    }
   ],
   "source": [
    "%cd /content/drive/MyDrive/works/client-project/stock-inventory-business-case/project-group.zip (Unzipped Files)"
   ]
  },
  {
   "cell_type": "markdown",
   "id": "teJskxI6Kyr_",
   "metadata": {
    "id": "teJskxI6Kyr_"
   },
   "source": [
    "# Approach 1:\n",
    "Build a multi-class classifier model for top 7 classes."
   ]
  },
  {
   "cell_type": "code",
   "execution_count": null,
   "id": "P5qttdg_KQMd",
   "metadata": {
    "id": "P5qttdg_KQMd"
   },
   "outputs": [],
   "source": [
    "import numpy as np\n",
    "import pandas as pd"
   ]
  },
  {
   "cell_type": "code",
   "execution_count": null,
   "id": "MK5NVW3dKQMk",
   "metadata": {
    "colab": {
     "base_uri": "https://localhost:8080/",
     "height": 731
    },
    "executionInfo": {
     "elapsed": 1690,
     "status": "ok",
     "timestamp": 1659844737135,
     "user": {
      "displayName": "lukmanul hakeem",
      "userId": "05969570853284345536"
     },
     "user_tz": -330
    },
    "id": "MK5NVW3dKQMk",
    "outputId": "817570f9-f865-4374-af46-1599d698819e"
   },
   "outputs": [
    {
     "data": {
      "text/html": [
       "<div>\n",
       "<style scoped>\n",
       "    .dataframe tbody tr th:only-of-type {\n",
       "        vertical-align: middle;\n",
       "    }\n",
       "\n",
       "    .dataframe tbody tr th {\n",
       "        vertical-align: top;\n",
       "    }\n",
       "\n",
       "    .dataframe thead th {\n",
       "        text-align: right;\n",
       "    }\n",
       "</style>\n",
       "<table border=\"1\" class=\"dataframe\">\n",
       "  <thead>\n",
       "    <tr style=\"text-align: right;\">\n",
       "      <th></th>\n",
       "      <th>invoice_date</th>\n",
       "      <th>job_card_date</th>\n",
       "      <th>business_partner_name</th>\n",
       "      <th>vehicle_no</th>\n",
       "      <th>vehicle_model</th>\n",
       "      <th>current_km_reading</th>\n",
       "      <th>invoice_line_text</th>\n",
       "      <th>job_card_date_dt</th>\n",
       "    </tr>\n",
       "  </thead>\n",
       "  <tbody>\n",
       "    <tr>\n",
       "      <th>0</th>\n",
       "      <td>01-06-17</td>\n",
       "      <td>01-06-17</td>\n",
       "      <td>SATHXXXXXXXXXX</td>\n",
       "      <td>KA53ESXXXX</td>\n",
       "      <td>BAJAJ PULSAR 150</td>\n",
       "      <td>523</td>\n",
       "      <td>CHAIN LUBRICATION</td>\n",
       "      <td>2017-01-06</td>\n",
       "    </tr>\n",
       "    <tr>\n",
       "      <th>1</th>\n",
       "      <td>01-06-17</td>\n",
       "      <td>01-06-17</td>\n",
       "      <td>vinoXXXXXXXXXX</td>\n",
       "      <td>KA51EVXXXX</td>\n",
       "      <td>BAJAJ AVENGER STREET 220</td>\n",
       "      <td>2750</td>\n",
       "      <td>CHAIN LUBRICATION</td>\n",
       "      <td>2017-01-06</td>\n",
       "    </tr>\n",
       "    <tr>\n",
       "      <th>2</th>\n",
       "      <td>01-06-17</td>\n",
       "      <td>01-06-17</td>\n",
       "      <td>diliXXXXXXXXXX</td>\n",
       "      <td>ka 53 XXXX</td>\n",
       "      <td>BAJAJ V</td>\n",
       "      <td>45421</td>\n",
       "      <td>GENERAL SERVICE</td>\n",
       "      <td>2017-01-06</td>\n",
       "    </tr>\n",
       "    <tr>\n",
       "      <th>3</th>\n",
       "      <td>01-06-17</td>\n",
       "      <td>01-06-17</td>\n",
       "      <td>SATHXXXXXXXXXX</td>\n",
       "      <td>KA53ESXXXX</td>\n",
       "      <td>BAJAJ PULSAR 150</td>\n",
       "      <td>523</td>\n",
       "      <td>3M OIL</td>\n",
       "      <td>2017-01-06</td>\n",
       "    </tr>\n",
       "    <tr>\n",
       "      <th>4</th>\n",
       "      <td>01-06-17</td>\n",
       "      <td>01-06-17</td>\n",
       "      <td>PRASXXXXXXXXXX</td>\n",
       "      <td>KA53ERXXXX</td>\n",
       "      <td>BAJAJ PULSAR 150</td>\n",
       "      <td>5500</td>\n",
       "      <td>3M OIL</td>\n",
       "      <td>2017-01-06</td>\n",
       "    </tr>\n",
       "    <tr>\n",
       "      <th>...</th>\n",
       "      <td>...</td>\n",
       "      <td>...</td>\n",
       "      <td>...</td>\n",
       "      <td>...</td>\n",
       "      <td>...</td>\n",
       "      <td>...</td>\n",
       "      <td>...</td>\n",
       "      <td>...</td>\n",
       "    </tr>\n",
       "    <tr>\n",
       "      <th>15563</th>\n",
       "      <td>06-01-19</td>\n",
       "      <td>06-01-19</td>\n",
       "      <td>dharXXXXXXXXXX</td>\n",
       "      <td>KA41L7XXXX</td>\n",
       "      <td>BAJAJ PULSAR 150</td>\n",
       "      <td>91448</td>\n",
       "      <td>GENERAL SERVICE</td>\n",
       "      <td>2019-06-01</td>\n",
       "    </tr>\n",
       "    <tr>\n",
       "      <th>15564</th>\n",
       "      <td>06-01-19</td>\n",
       "      <td>06-01-19</td>\n",
       "      <td>dharXXXXXXXXXX</td>\n",
       "      <td>KA41L7XXXX</td>\n",
       "      <td>BAJAJ PULSAR 150</td>\n",
       "      <td>91448</td>\n",
       "      <td>CHAIN LUBRICATION</td>\n",
       "      <td>2019-06-01</td>\n",
       "    </tr>\n",
       "    <tr>\n",
       "      <th>15565</th>\n",
       "      <td>06-01-19</td>\n",
       "      <td>06-01-19</td>\n",
       "      <td>dharXXXXXXXXXX</td>\n",
       "      <td>KA41L7XXXX</td>\n",
       "      <td>BAJAJ PULSAR 150</td>\n",
       "      <td>91448</td>\n",
       "      <td>ENGINE OIL</td>\n",
       "      <td>2019-06-01</td>\n",
       "    </tr>\n",
       "    <tr>\n",
       "      <th>15566</th>\n",
       "      <td>06-01-19</td>\n",
       "      <td>06-01-19</td>\n",
       "      <td>PRITXXXXXXXXXX</td>\n",
       "      <td>KA53EWXXXX</td>\n",
       "      <td>BAJAJ PULSAR NS 160</td>\n",
       "      <td>2914</td>\n",
       "      <td>POLISH</td>\n",
       "      <td>2019-06-01</td>\n",
       "    </tr>\n",
       "    <tr>\n",
       "      <th>15567</th>\n",
       "      <td>06-01-19</td>\n",
       "      <td>06-01-19</td>\n",
       "      <td>PRITXXXXXXXXXX</td>\n",
       "      <td>KA53EWXXXX</td>\n",
       "      <td>BAJAJ PULSAR NS 160</td>\n",
       "      <td>2914</td>\n",
       "      <td>ENGINE OIL</td>\n",
       "      <td>2019-06-01</td>\n",
       "    </tr>\n",
       "  </tbody>\n",
       "</table>\n",
       "<p>15568 rows × 8 columns</p>\n",
       "</div>"
      ],
      "text/plain": [
       "      invoice_date job_card_date business_partner_name  vehicle_no  \\\n",
       "0         01-06-17      01-06-17        SATHXXXXXXXXXX  KA53ESXXXX   \n",
       "1         01-06-17      01-06-17        vinoXXXXXXXXXX  KA51EVXXXX   \n",
       "2         01-06-17      01-06-17        diliXXXXXXXXXX  ka 53 XXXX   \n",
       "3         01-06-17      01-06-17        SATHXXXXXXXXXX  KA53ESXXXX   \n",
       "4         01-06-17      01-06-17        PRASXXXXXXXXXX  KA53ERXXXX   \n",
       "...            ...           ...                   ...         ...   \n",
       "15563     06-01-19      06-01-19        dharXXXXXXXXXX  KA41L7XXXX   \n",
       "15564     06-01-19      06-01-19        dharXXXXXXXXXX  KA41L7XXXX   \n",
       "15565     06-01-19      06-01-19        dharXXXXXXXXXX  KA41L7XXXX   \n",
       "15566     06-01-19      06-01-19        PRITXXXXXXXXXX  KA53EWXXXX   \n",
       "15567     06-01-19      06-01-19        PRITXXXXXXXXXX  KA53EWXXXX   \n",
       "\n",
       "                  vehicle_model  current_km_reading  invoice_line_text  \\\n",
       "0              BAJAJ PULSAR 150                 523  CHAIN LUBRICATION   \n",
       "1      BAJAJ AVENGER STREET 220                2750  CHAIN LUBRICATION   \n",
       "2                       BAJAJ V               45421    GENERAL SERVICE   \n",
       "3              BAJAJ PULSAR 150                 523             3M OIL   \n",
       "4              BAJAJ PULSAR 150                5500             3M OIL   \n",
       "...                         ...                 ...                ...   \n",
       "15563          BAJAJ PULSAR 150               91448    GENERAL SERVICE   \n",
       "15564          BAJAJ PULSAR 150               91448  CHAIN LUBRICATION   \n",
       "15565          BAJAJ PULSAR 150               91448         ENGINE OIL   \n",
       "15566       BAJAJ PULSAR NS 160                2914             POLISH   \n",
       "15567       BAJAJ PULSAR NS 160                2914         ENGINE OIL   \n",
       "\n",
       "      job_card_date_dt  \n",
       "0           2017-01-06  \n",
       "1           2017-01-06  \n",
       "2           2017-01-06  \n",
       "3           2017-01-06  \n",
       "4           2017-01-06  \n",
       "...                ...  \n",
       "15563       2019-06-01  \n",
       "15564       2019-06-01  \n",
       "15565       2019-06-01  \n",
       "15566       2019-06-01  \n",
       "15567       2019-06-01  \n",
       "\n",
       "[15568 rows x 8 columns]"
      ]
     },
     "execution_count": 2,
     "metadata": {},
     "output_type": "execute_result"
    }
   ],
   "source": [
    "data = pd.read_csv('data_top7_class.csv')\n",
    "data"
   ]
  },
  {
   "cell_type": "code",
   "execution_count": null,
   "id": "zGVSh6r8KQMm",
   "metadata": {
    "colab": {
     "base_uri": "https://localhost:8080/",
     "height": 424
    },
    "executionInfo": {
     "elapsed": 28,
     "status": "ok",
     "timestamp": 1659844737138,
     "user": {
      "displayName": "lukmanul hakeem",
      "userId": "05969570853284345536"
     },
     "user_tz": -330
    },
    "id": "zGVSh6r8KQMm",
    "outputId": "8e2cc625-8cc6-4337-d815-73adcc39fbbc"
   },
   "outputs": [
    {
     "data": {
      "text/html": [
       "<div>\n",
       "<style scoped>\n",
       "    .dataframe tbody tr th:only-of-type {\n",
       "        vertical-align: middle;\n",
       "    }\n",
       "\n",
       "    .dataframe tbody tr th {\n",
       "        vertical-align: top;\n",
       "    }\n",
       "\n",
       "    .dataframe thead th {\n",
       "        text-align: right;\n",
       "    }\n",
       "</style>\n",
       "<table border=\"1\" class=\"dataframe\">\n",
       "  <thead>\n",
       "    <tr style=\"text-align: right;\">\n",
       "      <th></th>\n",
       "      <th>business_partner_name</th>\n",
       "      <th>vehicle_no</th>\n",
       "      <th>vehicle_model</th>\n",
       "      <th>current_km_reading</th>\n",
       "      <th>invoice_line_text</th>\n",
       "    </tr>\n",
       "  </thead>\n",
       "  <tbody>\n",
       "    <tr>\n",
       "      <th>0</th>\n",
       "      <td>SATHXXXXXXXXXX</td>\n",
       "      <td>KA53ESXXXX</td>\n",
       "      <td>BAJAJ PULSAR 150</td>\n",
       "      <td>523</td>\n",
       "      <td>CHAIN LUBRICATION</td>\n",
       "    </tr>\n",
       "    <tr>\n",
       "      <th>1</th>\n",
       "      <td>vinoXXXXXXXXXX</td>\n",
       "      <td>KA51EVXXXX</td>\n",
       "      <td>BAJAJ AVENGER STREET 220</td>\n",
       "      <td>2750</td>\n",
       "      <td>CHAIN LUBRICATION</td>\n",
       "    </tr>\n",
       "    <tr>\n",
       "      <th>2</th>\n",
       "      <td>diliXXXXXXXXXX</td>\n",
       "      <td>ka 53 XXXX</td>\n",
       "      <td>BAJAJ V</td>\n",
       "      <td>45421</td>\n",
       "      <td>GENERAL SERVICE</td>\n",
       "    </tr>\n",
       "    <tr>\n",
       "      <th>3</th>\n",
       "      <td>SATHXXXXXXXXXX</td>\n",
       "      <td>KA53ESXXXX</td>\n",
       "      <td>BAJAJ PULSAR 150</td>\n",
       "      <td>523</td>\n",
       "      <td>3M OIL</td>\n",
       "    </tr>\n",
       "    <tr>\n",
       "      <th>4</th>\n",
       "      <td>PRASXXXXXXXXXX</td>\n",
       "      <td>KA53ERXXXX</td>\n",
       "      <td>BAJAJ PULSAR 150</td>\n",
       "      <td>5500</td>\n",
       "      <td>3M OIL</td>\n",
       "    </tr>\n",
       "    <tr>\n",
       "      <th>...</th>\n",
       "      <td>...</td>\n",
       "      <td>...</td>\n",
       "      <td>...</td>\n",
       "      <td>...</td>\n",
       "      <td>...</td>\n",
       "    </tr>\n",
       "    <tr>\n",
       "      <th>15563</th>\n",
       "      <td>dharXXXXXXXXXX</td>\n",
       "      <td>KA41L7XXXX</td>\n",
       "      <td>BAJAJ PULSAR 150</td>\n",
       "      <td>91448</td>\n",
       "      <td>GENERAL SERVICE</td>\n",
       "    </tr>\n",
       "    <tr>\n",
       "      <th>15564</th>\n",
       "      <td>dharXXXXXXXXXX</td>\n",
       "      <td>KA41L7XXXX</td>\n",
       "      <td>BAJAJ PULSAR 150</td>\n",
       "      <td>91448</td>\n",
       "      <td>CHAIN LUBRICATION</td>\n",
       "    </tr>\n",
       "    <tr>\n",
       "      <th>15565</th>\n",
       "      <td>dharXXXXXXXXXX</td>\n",
       "      <td>KA41L7XXXX</td>\n",
       "      <td>BAJAJ PULSAR 150</td>\n",
       "      <td>91448</td>\n",
       "      <td>ENGINE OIL</td>\n",
       "    </tr>\n",
       "    <tr>\n",
       "      <th>15566</th>\n",
       "      <td>PRITXXXXXXXXXX</td>\n",
       "      <td>KA53EWXXXX</td>\n",
       "      <td>BAJAJ PULSAR NS 160</td>\n",
       "      <td>2914</td>\n",
       "      <td>POLISH</td>\n",
       "    </tr>\n",
       "    <tr>\n",
       "      <th>15567</th>\n",
       "      <td>PRITXXXXXXXXXX</td>\n",
       "      <td>KA53EWXXXX</td>\n",
       "      <td>BAJAJ PULSAR NS 160</td>\n",
       "      <td>2914</td>\n",
       "      <td>ENGINE OIL</td>\n",
       "    </tr>\n",
       "  </tbody>\n",
       "</table>\n",
       "<p>15568 rows × 5 columns</p>\n",
       "</div>"
      ],
      "text/plain": [
       "      business_partner_name  vehicle_no             vehicle_model  \\\n",
       "0            SATHXXXXXXXXXX  KA53ESXXXX          BAJAJ PULSAR 150   \n",
       "1            vinoXXXXXXXXXX  KA51EVXXXX  BAJAJ AVENGER STREET 220   \n",
       "2            diliXXXXXXXXXX  ka 53 XXXX                   BAJAJ V   \n",
       "3            SATHXXXXXXXXXX  KA53ESXXXX          BAJAJ PULSAR 150   \n",
       "4            PRASXXXXXXXXXX  KA53ERXXXX          BAJAJ PULSAR 150   \n",
       "...                     ...         ...                       ...   \n",
       "15563        dharXXXXXXXXXX  KA41L7XXXX          BAJAJ PULSAR 150   \n",
       "15564        dharXXXXXXXXXX  KA41L7XXXX          BAJAJ PULSAR 150   \n",
       "15565        dharXXXXXXXXXX  KA41L7XXXX          BAJAJ PULSAR 150   \n",
       "15566        PRITXXXXXXXXXX  KA53EWXXXX       BAJAJ PULSAR NS 160   \n",
       "15567        PRITXXXXXXXXXX  KA53EWXXXX       BAJAJ PULSAR NS 160   \n",
       "\n",
       "       current_km_reading  invoice_line_text  \n",
       "0                     523  CHAIN LUBRICATION  \n",
       "1                    2750  CHAIN LUBRICATION  \n",
       "2                   45421    GENERAL SERVICE  \n",
       "3                     523             3M OIL  \n",
       "4                    5500             3M OIL  \n",
       "...                   ...                ...  \n",
       "15563               91448    GENERAL SERVICE  \n",
       "15564               91448  CHAIN LUBRICATION  \n",
       "15565               91448         ENGINE OIL  \n",
       "15566                2914             POLISH  \n",
       "15567                2914         ENGINE OIL  \n",
       "\n",
       "[15568 rows x 5 columns]"
      ]
     },
     "execution_count": 3,
     "metadata": {},
     "output_type": "execute_result"
    }
   ],
   "source": [
    "data.drop(['invoice_date', 'job_card_date', 'job_card_date_dt'], axis=1, inplace=True)\n",
    "data"
   ]
  },
  {
   "cell_type": "code",
   "execution_count": null,
   "id": "Lz_LhVuFKysD",
   "metadata": {
    "id": "Lz_LhVuFKysD",
    "outputId": "e4001687-79c6-4b21-a892-dd1e606cd873"
   },
   "outputs": [
    {
     "name": "stdout",
     "output_type": "stream",
     "text": [
      "<class 'pandas.core.frame.DataFrame'>\n",
      "RangeIndex: 15568 entries, 0 to 15567\n",
      "Data columns (total 5 columns):\n",
      " #   Column                 Non-Null Count  Dtype \n",
      "---  ------                 --------------  ----- \n",
      " 0   business_partner_name  15568 non-null  object\n",
      " 1   vehicle_no             15568 non-null  object\n",
      " 2   vehicle_model          15568 non-null  object\n",
      " 3   current_km_reading     15568 non-null  int64 \n",
      " 4   invoice_line_text      15568 non-null  object\n",
      "dtypes: int64(1), object(4)\n",
      "memory usage: 608.2+ KB\n"
     ]
    }
   ],
   "source": [
    "data.info()"
   ]
  },
  {
   "cell_type": "code",
   "execution_count": null,
   "id": "OiF8FdycK-wX",
   "metadata": {
    "id": "OiF8FdycK-wX"
   },
   "outputs": [],
   "source": [
    "pd.set_option('display.max_rows', None)"
   ]
  },
  {
   "cell_type": "code",
   "execution_count": null,
   "id": "F7tiRHWtKzZi",
   "metadata": {
    "colab": {
     "base_uri": "https://localhost:8080/"
    },
    "executionInfo": {
     "elapsed": 1107,
     "status": "ok",
     "timestamp": 1659783883953,
     "user": {
      "displayName": "lukmanul hakeem",
      "userId": "05969570853284345536"
     },
     "user_tz": -330
    },
    "id": "F7tiRHWtKzZi",
    "outputId": "f9f6f11d-3aab-4725-963c-bcc6eaaa737c"
   },
   "outputs": [
    {
     "data": {
      "text/plain": [
       "business_partner_name     981\n",
       "vehicle_no                804\n",
       "vehicle_model              28\n",
       "current_km_reading       3396\n",
       "invoice_line_text           7\n",
       "dtype: int64"
      ]
     },
     "execution_count": 5,
     "metadata": {},
     "output_type": "execute_result"
    }
   ],
   "source": [
    "data.nunique()"
   ]
  },
  {
   "cell_type": "code",
   "execution_count": null,
   "id": "lKCWyxG1KQMo",
   "metadata": {
    "colab": {
     "base_uri": "https://localhost:8080/",
     "height": 300
    },
    "executionInfo": {
     "elapsed": 90,
     "status": "ok",
     "timestamp": 1659783887192,
     "user": {
      "displayName": "lukmanul hakeem",
      "userId": "05969570853284345536"
     },
     "user_tz": -330
    },
    "id": "lKCWyxG1KQMo",
    "outputId": "c7c7ae6a-3443-465c-a71c-5f6a53b845c1"
   },
   "outputs": [
    {
     "data": {
      "text/html": [
       "<div>\n",
       "<style scoped>\n",
       "    .dataframe tbody tr th:only-of-type {\n",
       "        vertical-align: middle;\n",
       "    }\n",
       "\n",
       "    .dataframe tbody tr th {\n",
       "        vertical-align: top;\n",
       "    }\n",
       "\n",
       "    .dataframe thead th {\n",
       "        text-align: right;\n",
       "    }\n",
       "</style>\n",
       "<table border=\"1\" class=\"dataframe\">\n",
       "  <thead>\n",
       "    <tr style=\"text-align: right;\">\n",
       "      <th></th>\n",
       "      <th>current_km_reading</th>\n",
       "    </tr>\n",
       "  </thead>\n",
       "  <tbody>\n",
       "    <tr>\n",
       "      <th>count</th>\n",
       "      <td>15568.000000</td>\n",
       "    </tr>\n",
       "    <tr>\n",
       "      <th>mean</th>\n",
       "      <td>13871.119090</td>\n",
       "    </tr>\n",
       "    <tr>\n",
       "      <th>std</th>\n",
       "      <td>21751.962074</td>\n",
       "    </tr>\n",
       "    <tr>\n",
       "      <th>min</th>\n",
       "      <td>0.000000</td>\n",
       "    </tr>\n",
       "    <tr>\n",
       "      <th>25%</th>\n",
       "      <td>1796.000000</td>\n",
       "    </tr>\n",
       "    <tr>\n",
       "      <th>50%</th>\n",
       "      <td>6512.000000</td>\n",
       "    </tr>\n",
       "    <tr>\n",
       "      <th>75%</th>\n",
       "      <td>19164.250000</td>\n",
       "    </tr>\n",
       "    <tr>\n",
       "      <th>max</th>\n",
       "      <td>610112.000000</td>\n",
       "    </tr>\n",
       "  </tbody>\n",
       "</table>\n",
       "</div>"
      ],
      "text/plain": [
       "       current_km_reading\n",
       "count        15568.000000\n",
       "mean         13871.119090\n",
       "std          21751.962074\n",
       "min              0.000000\n",
       "25%           1796.000000\n",
       "50%           6512.000000\n",
       "75%          19164.250000\n",
       "max         610112.000000"
      ]
     },
     "execution_count": 34,
     "metadata": {},
     "output_type": "execute_result"
    }
   ],
   "source": [
    "data.describe()"
   ]
  },
  {
   "cell_type": "markdown",
   "id": "jR5ZdLLWKysH",
   "metadata": {
    "id": "jR5ZdLLWKysH"
   },
   "source": [
    "## Data preprocessing"
   ]
  },
  {
   "cell_type": "markdown",
   "id": "fcVsSyBzKysH",
   "metadata": {
    "id": "fcVsSyBzKysH"
   },
   "source": [
    "We will try to minimize number of feature values for 'business_partner_name' and 'vehicle_no' because of its number of unique values are high. Using entire values will results poor training on data. \n",
    "\n",
    "For feature **'business_partner_name'**, we will take top 20 values and rest values will label as 'other'.  "
   ]
  },
  {
   "cell_type": "code",
   "execution_count": null,
   "id": "KIplEkFTKysI",
   "metadata": {
    "id": "KIplEkFTKysI",
    "outputId": "7e9091e7-088e-4dc2-e0b7-a4dfb9e8f85d"
   },
   "outputs": [
    {
     "data": {
      "text/plain": [
       "venkXXXXXXXXXX    222\n",
       "manjXXXXXXXXXX    205\n",
       "prasXXXXXXXXXX    177\n",
       "santXXXXXXXXXX    164\n",
       "hariXXXXXXXXXX    159\n",
       "shivXXXXXXXXXX    155\n",
       "raviXXXXXXXXXX    154\n",
       "chanXXXXXXXXXX    141\n",
       "sureXXXXXXXXXX    131\n",
       "vijaXXXXXXXXXX    128\n",
       "abhiXXXXXXXXXX    122\n",
       "arunXXXXXXXXXX    121\n",
       "mohaXXXXXXXXXX    120\n",
       "srinXXXXXXXXXX    110\n",
       "rameXXXXXXXXXX    108\n",
       "ramaXXXXXXXXXX    108\n",
       "kartXXXXXXXXXX    107\n",
       "balaXXXXXXXXXX    104\n",
       "vinoXXXXXXXXXX    101\n",
       "anilXXXXXXXXXX    100\n",
       "Name: business_partner_name, dtype: int64"
      ]
     },
     "execution_count": 7,
     "metadata": {},
     "output_type": "execute_result"
    }
   ],
   "source": [
    "data.business_partner_name.value_counts()[:20]"
   ]
  },
  {
   "cell_type": "code",
   "execution_count": null,
   "id": "jvftMN3kKysI",
   "metadata": {
    "id": "jvftMN3kKysI"
   },
   "outputs": [],
   "source": [
    "top_20_business_partner_name = ['venkXXXXXXXXXX', 'manjXXXXXXXXXX', 'prasXXXXXXXXXX', 'santXXXXXXXXXX', \n",
    "                                 'hariXXXXXXXXXX', 'shivXXXXXXXXXX', 'raviXXXXXXXXXX', 'chanXXXXXXXXXX',\n",
    "                                 'sureXXXXXXXXXX', 'vijaXXXXXXXXXX', 'abhiXXXXXXXXXX', 'arunXXXXXXXXXX',\n",
    "                                 'mohaXXXXXXXXXX', 'srinXXXXXXXXXX', 'rameXXXXXXXXXX', 'ramaXXXXXXXXXX', \n",
    "                                 'kartXXXXXXXXXX', 'balaXXXXXXXXXX', 'vinoXXXXXXXXXX', 'anilXXXXXXXXXX']"
   ]
  },
  {
   "cell_type": "code",
   "execution_count": null,
   "id": "BW2tMstVKysJ",
   "metadata": {
    "id": "BW2tMstVKysJ"
   },
   "outputs": [],
   "source": [
    "data.loc[data.business_partner_name.isin(top_20_business_partner_name)==False, ['business_partner_name']] = 'other'"
   ]
  },
  {
   "cell_type": "code",
   "execution_count": null,
   "id": "ioirzXIqKysK",
   "metadata": {
    "id": "ioirzXIqKysK",
    "outputId": "514a694b-a7ef-4a8b-f970-988178407de3"
   },
   "outputs": [
    {
     "data": {
      "text/html": [
       "<div>\n",
       "<style scoped>\n",
       "    .dataframe tbody tr th:only-of-type {\n",
       "        vertical-align: middle;\n",
       "    }\n",
       "\n",
       "    .dataframe tbody tr th {\n",
       "        vertical-align: top;\n",
       "    }\n",
       "\n",
       "    .dataframe thead th {\n",
       "        text-align: right;\n",
       "    }\n",
       "</style>\n",
       "<table border=\"1\" class=\"dataframe\">\n",
       "  <thead>\n",
       "    <tr style=\"text-align: right;\">\n",
       "      <th></th>\n",
       "      <th>business_partner_name</th>\n",
       "    </tr>\n",
       "  </thead>\n",
       "  <tbody>\n",
       "    <tr>\n",
       "      <th>0</th>\n",
       "      <td>other</td>\n",
       "    </tr>\n",
       "    <tr>\n",
       "      <th>2</th>\n",
       "      <td>other</td>\n",
       "    </tr>\n",
       "    <tr>\n",
       "      <th>3</th>\n",
       "      <td>other</td>\n",
       "    </tr>\n",
       "    <tr>\n",
       "      <th>4</th>\n",
       "      <td>other</td>\n",
       "    </tr>\n",
       "    <tr>\n",
       "      <th>5</th>\n",
       "      <td>other</td>\n",
       "    </tr>\n",
       "    <tr>\n",
       "      <th>...</th>\n",
       "      <td>...</td>\n",
       "    </tr>\n",
       "    <tr>\n",
       "      <th>15563</th>\n",
       "      <td>other</td>\n",
       "    </tr>\n",
       "    <tr>\n",
       "      <th>15564</th>\n",
       "      <td>other</td>\n",
       "    </tr>\n",
       "    <tr>\n",
       "      <th>15565</th>\n",
       "      <td>other</td>\n",
       "    </tr>\n",
       "    <tr>\n",
       "      <th>15566</th>\n",
       "      <td>other</td>\n",
       "    </tr>\n",
       "    <tr>\n",
       "      <th>15567</th>\n",
       "      <td>other</td>\n",
       "    </tr>\n",
       "  </tbody>\n",
       "</table>\n",
       "<p>12831 rows × 1 columns</p>\n",
       "</div>"
      ],
      "text/plain": [
       "      business_partner_name\n",
       "0                     other\n",
       "2                     other\n",
       "3                     other\n",
       "4                     other\n",
       "5                     other\n",
       "...                     ...\n",
       "15563                 other\n",
       "15564                 other\n",
       "15565                 other\n",
       "15566                 other\n",
       "15567                 other\n",
       "\n",
       "[12831 rows x 1 columns]"
      ]
     },
     "execution_count": 6,
     "metadata": {},
     "output_type": "execute_result"
    }
   ],
   "source": [
    "data.loc[data.business_partner_name.isin(top_20_business_partner_name)==False, ['business_partner_name']]"
   ]
  },
  {
   "cell_type": "code",
   "execution_count": null,
   "id": "KPaYlL63KysK",
   "metadata": {
    "id": "KPaYlL63KysK",
    "outputId": "32c63aae-6418-4f54-ccc5-93caa24144c1"
   },
   "outputs": [
    {
     "data": {
      "text/plain": [
       "other             12831\n",
       "venkXXXXXXXXXX      222\n",
       "manjXXXXXXXXXX      205\n",
       "prasXXXXXXXXXX      177\n",
       "santXXXXXXXXXX      164\n",
       "hariXXXXXXXXXX      159\n",
       "shivXXXXXXXXXX      155\n",
       "raviXXXXXXXXXX      154\n",
       "chanXXXXXXXXXX      141\n",
       "sureXXXXXXXXXX      131\n",
       "vijaXXXXXXXXXX      128\n",
       "abhiXXXXXXXXXX      122\n",
       "arunXXXXXXXXXX      121\n",
       "mohaXXXXXXXXXX      120\n",
       "srinXXXXXXXXXX      110\n",
       "ramaXXXXXXXXXX      108\n",
       "rameXXXXXXXXXX      108\n",
       "kartXXXXXXXXXX      107\n",
       "balaXXXXXXXXXX      104\n",
       "vinoXXXXXXXXXX      101\n",
       "anilXXXXXXXXXX      100\n",
       "Name: business_partner_name, dtype: int64"
      ]
     },
     "execution_count": 7,
     "metadata": {},
     "output_type": "execute_result"
    }
   ],
   "source": [
    "data.business_partner_name.value_counts()"
   ]
  },
  {
   "cell_type": "markdown",
   "id": "u0DtmUquKysL",
   "metadata": {
    "id": "u0DtmUquKysL"
   },
   "source": [
    "For **'vehicle_no'** feature, we first encode values into respective Indian States number code. This is dome by just taking first two letters for all vehicle_no rows as we know first two letter stands for Indian state in which the vehicle belongs to."
   ]
  },
  {
   "cell_type": "code",
   "execution_count": null,
   "id": "gQm_DvS1KysL",
   "metadata": {
    "id": "gQm_DvS1KysL",
    "outputId": "e68e18d6-846f-4b80-f138-3c80bf497358"
   },
   "outputs": [
    {
     "data": {
      "text/plain": [
       "array(['KA53ESXXXX', 'KA51EVXXXX', 'ka 53 XXXX', 'KA53ERXXXX',\n",
       "       'KA53EQXXXX', 'KA02EWXXXX', 'KA03JJXXXX', 'KA44K6XXXX',\n",
       "       'KA53S9XXXX', 'KA53V3XXXX', 'KA53ENXXXX', 'KA53EGXXXX',\n",
       "       'KA03TCXXXX', 'KA53L8XXXX', 'KA03HWXXXX', 'KA01HJXXXX',\n",
       "       'KA51EUXXXX', 'KA53ELXXXX', 'KA03HFXXXX', 'KA01HLXXXX',\n",
       "       'KA53EPXXXX', 'KA53ETXXXX', 'AP36ARXXXX', 'KA19EHXXXX',\n",
       "       'KA01HGXXXX', 'KA03HUXXXX', 'KA53Y3XXXX', 'AP28DUXXXX',\n",
       "       'AP11AJXXXX', 'KA53EUXXXX', 'KA53EMXXXX', 'KL49G5XXXX',\n",
       "       'KA53R7XXXX', 'AP02AAXXXX', 'SHIVAMXXXX', 'KA01HRXXXX',\n",
       "       'KA53EVXXXX', 'KA02HAXXXX', 'KA01HTXXXX', 'KA03HZXXXX',\n",
       "       'TN29ARXXXX', 'KA53EFXXXX', 'JOGANNXXXX', 'KA21W8XXXX',\n",
       "       'KA53EKXXXX', 'KA06EUXXXX', 'KA53EBXXXX', 'AP28DJXXXX',\n",
       "       'AP30AKXXXX', 'KA53EJXXXX', 'KA03HSXXXX', 'KA01HMXXXX',\n",
       "       'KA53X6XXXX', 'KA02EJXXXX', 'KL9AH4XXXX', 'RJ44SAXXXX',\n",
       "       'KA03HJXXXX', 'KA03JGXXXX', 'KA53S3XXXX', 'KA03JDXXXX',\n",
       "       'KA05HXXXXX', 'KA03JMXXXX', 'KA03HMXXXX', 'KA53W2XXXX',\n",
       "       'GJ1DC3XXXX', 'MH12JRXXXX', 'KA01HDXXXX', 'KA50V8XXXX', 'NEW2XXXX',\n",
       "       'KA05HLXXXX', 'KA03EMXXXX', 'KA51EBXXXX', 'KA01HBXXXX',\n",
       "       'MH12KBXXXX', 'KA01ELXXXX', 'AP16CWXXXX', 'KA03JCXXXX',\n",
       "       'TN02APXXXX', 'KA53ECXXXX', 'KA03EZXXXX', 'KA01EZXXXX',\n",
       "       'AP04L1XXXX', 'KA36S8XXXX', 'TN36ABXXXX', 'KA03HLXXXX',\n",
       "       'SAGARPXXXX', 'KA01HKXXXX', 'KA03HVXXXX', 'KAP03CXXXX',\n",
       "       'KA06EZXXXX', 'KA02HTXXXX', 'KA03EYXXXX', 'KA03JLXXXX',\n",
       "       'AYUSHXXXX', 'KA53EDXXXX', 'HR26BTXXXX', 'KL08AHXXXX',\n",
       "       'KA53EEXXXX', 'TN07BRXXXX', 'AP28ARXXXX', 'SURYAXXXX',\n",
       "       'AMALADXXXX', 'KA03HBXXXX', 'KA01HFXXXX', 'KA02HLXXXX',\n",
       "       'KA51EMXXXX', 'KA03MFXXXX', 'KA05JGXXXX', 'KA09HFXXXX',\n",
       "       'KA51ECXXXX', 'KA023JXXXX', 'AP02AFXXXX', 'KA01EUXXXX',\n",
       "       'NAVEENXXXX', 'PY01BNXXXX', 'KA51Q6XXXX', 'KA03JNXXXX',\n",
       "       'KA53Y4XXXX', 'KA19ENXXXX', 'KA27EBXXXX', 'KA50Y0XXXX',\n",
       "       'KA02ESXXXX', 'KA53J9XXXX', 'MUNRAJXXXX', 'KA53S5XXXX',\n",
       "       'KA53W3XXXX', 'KA04EVXXXX', 'KA05HCXXXX', 'KA01HNXXXX',\n",
       "       'KA03JAXXXX', 'KA04HZXXXX', 'KA11ECXXXX', 'KA05JDXXXX',\n",
       "       'TN29BBXXXX', 'KA04HWXXXX', 'KA03JEXXXX', 'KA04JFXXXX',\n",
       "       'KA51ENXXXX', 'KA02HJXXXX', 'KA54EMXXXX', 'TN70D3XXXX',\n",
       "       'KA50W1XXXX', 'KA02JCXXXX', 'KA01EHXXXX', 'KA09EZXXXX',\n",
       "       '1STFREXXXX', 'KA03JFXXXX', 'KA53V2XXXX', 'MANJUNXXXX',\n",
       "       'PY01BBXXXX', 'VINODXXXX', 'KA51EKXXXX', 'KA03JBXXXX',\n",
       "       'MH14GGXXXX', 'KA04JGXXXX', 'TN54E9XXXX', 'ARUNKUXXXX',\n",
       "       'KA10S5XXXX', 'KA53Y1XXXX', 'KA16X4XXXX', 'AP16CLXXXX', 'NEWXXXX',\n",
       "       'KA27V8XXXX', 'KA03ESXXXX', 'DL3SDCXXXX', 'KA51EQXXXX',\n",
       "       'KA34Q5XXXX', 'KA51ETXXXX', 'KA41EEXXXX', 'KA06EYXXXX',\n",
       "       'KA03JKXXXX', 'KA53E3XXXX', 'KA53EHXXXX', 'KA03JHXXXX',\n",
       "       'KA11R2XXXX', 'KA01HCXXXX', 'KA03HQXXXX', 'AP03BSXXXX',\n",
       "       'KA51Y2XXXX', 'FORREGXXXX', 'KA01HHXXXX', 'KA53Q6XXXX',\n",
       "       'TN75H7XXXX', 'TS09EJXXXX', 'KA36EJXXXX', 'FOORREXXXX',\n",
       "       'AP37BLXXXX', 'KA02JGXXXX', 'KA09EMXXXX', 'KA01EPXXXX',\n",
       "       'KA53EAXXXX', 'KA03HXXXXX', 'KA53H1XXXX', 'KA01ENXXXX',\n",
       "       'KS53ELXXXX', 'KA04HPXXXX', 'MH12FBXXXX', 'MH12GGXXXX',\n",
       "       'SVPENTXXXX', 'KA53R1XXXX', 'KS53EEXXXX', 'KA51Y5XXXX',\n",
       "       'KA51EEXXXX', 'TVIKRAXXXX', 'KAC03HXXXX', 'KA03HNXXXX',\n",
       "       'WB0864XXXX', 'KA05HYXXXX', 'KA08V0XXXX', 'KA07S4XXXX',\n",
       "       'KA53S8XXXX', 'KA51V1XXXX', 'KA04ELXXXX', 'KA50K8XXXX',\n",
       "       'AP09BXXXXX', 'AP28DSXXXX', 'TS07EAXXXX', 'KA06EAXXXX',\n",
       "       'KA51ERXXXX', 'KA52L0XXXX', 'KA03JPXXXX', 'KA40Y6XXXX',\n",
       "       'KA51U9XXXX', 'KA51X2XXXX', 'TN05AZXXXX', 'AP03ATXXXX',\n",
       "       'KA51Q8XXXX', 'KA01EKXXXX', 'APPUGOXXXX', 'KA09EYXXXX',\n",
       "       'AP31BZXXXX', 'KA05JAXXXX', 'KA07U7XXXX', 'KA53S7XXXX',\n",
       "       'KA03AMXXXX', 'KA14EGXXXX', 'KA50R8XXXX', 'KA51EGXXXX',\n",
       "       'KL07BFXXXX', 'FORRREXXXX', 'KA04HNXXXX', 'KA50S1XXXX',\n",
       "       'KA53X2XXXX', 'TS08FAXXXX', 'KA05JMXXXX', 'KA05HEXXXX',\n",
       "       'KL12E3XXXX', 'TS08EWXXXX', 'KA13EJXXXX', 'KRISHNXXXX',\n",
       "       'KA07S8XXXX', 'KA32M6XXXX', 'KA51EHXXXX', 'KA53U6XXXX',\n",
       "       'KA04JBXXXX', 'KA05KEXXXX', 'TN25L9XXXX', 'TN25BDXXXX',\n",
       "       'KA03HEXXXX', 'KA51Y9XXXX', 'KA01EGXXXX', 'KA03EPXXXX',\n",
       "       'KA05HVXXXX', 'KA04HFXXXX', 'MP04KMXXXX', 'RJ06ASXXXX',\n",
       "       'KA44S1XXXX', 'KA19V4XXXX', 'KA51E6XXXX', 'KA541XXXXX',\n",
       "       'KA04JHXXXX', 'AP03CLXXXX', 'AP09CTXXXX', 'MH12HKXXXX',\n",
       "       'KA05HNXXXX', 'KA01HVXXXX', 'TN46D1XXXX', 'KA02JBXXXX',\n",
       "       'KA02EFXXXX', 'KA08S8XXXX', 'BIKASAXXXX', 'TS08EUXXXX',\n",
       "       'KA20EDXXXX', 'AP21P4XXXX', 'KA50Q5XXXX', 'KA19Y8XXXX',\n",
       "       'KA04EUXXXX', 'KA07V8XXXX', 'KA53HJXXXX', 'KOTASAXXXX',\n",
       "       'KA04JDXXXX', 'KA51X3XXXX', 'KA02HGXXXX', 'KA51L8XXXX',\n",
       "       'KA40X6XXXX', 'KA51EXXXXX', 'AP37BJXXXX', 'TN31ATXXXX',\n",
       "       'PY01BMXXXX', 'KA53X4XXXX', 'MH04GBXXXX', 'TS08ENXXXX',\n",
       "       'KA03HRXXXX', 'NARESHXXXX', 'KA03ETXXXX', 'TS08ERXXXX',\n",
       "       'AP03APXXXX', 'TN38BXXXXX', 'KA53Y2XXXX', 'KA28U7XXXX',\n",
       "       'KA53EWXXXX', 'KA51S7XXXX', 'VIJAYKXXXX', 'KA03J2XXXX',\n",
       "       'KA53L3XXXX', 'KA18K6XXXX', 'KA03EEXXXX', 'CHANDRXXXX',\n",
       "       'MH12CPXXXX', 'KA48K5XXXX', 'AP13ABXXXX', 'BR45C1XXXX',\n",
       "       'MH03AEXXXX', 'KA34EGXXXX', 'KA08Q1XXXX', 'AP09CJXXXX',\n",
       "       'KA53V4XXXX', 'KA04JKXXXX', 'UK07AAXXXX', 'TN23CZXXXX',\n",
       "       'MAHESHXXXX', 'KA03ENXXXX', 'HEMASHXXXX', 'UK07AEXXXX',\n",
       "       'TN07BHXXXX', 'NEWREGXXXX', 'TN08K4XXXX', 'DL45AYXXXX',\n",
       "       'KA44L2XXXX', 'MH12ERXXXX', 'TN43B1XXXX', 'KL57M3XXXX',\n",
       "       'KL22J4XXXX', 'KA53V5XXXX', 'KA01EVXXXX', 'KA19ETXXXX',\n",
       "       'KA03S1XXXX', 'KA05JRXXXX', 'SAMYNAXXXX', 'KA05KCXXXX',\n",
       "       'DL8SAKXXXX', 'UP16AHXXXX', 'MBSHOLXXXX', 'KA01EXXXXX',\n",
       "       'KA03HGXXXX', 'KA53U9XXXX', 'KA03HTXXXX', 'MH12JDXXXX', 'KHXXXX',\n",
       "       'TN47AJXXXX', 'KA22EPXXXX', 'KA53S1XXXX', 'KA01EEXXXX',\n",
       "       'DEVASPXXXX', 'RJ20SPXXXX', 'KA01ECXXXX', 'AP05CRXXXX',\n",
       "       'KA03HYXXXX', 'KA40C7XXXX', 'KA02JRXXXX', 'KA01EMXXXX',\n",
       "       'MH04EYXXXX', 'KA01HXXXXX', 'KA41V4XXXX', 'AP28ALXXXX',\n",
       "       'KA04EXXXXX', 'KL05Z9XXXX', 'TN11Q1XXXX', 'MP04NXXXXX',\n",
       "       'KA42W4XXXX', 'TS07EVXXXX', 'KA04JAXXXX', 'KA01EBXXXX',\n",
       "       'KA09EPXXXX', 'TN07BMXXXX', 'KA53S4XXXX', 'KA04JLXXXX',\n",
       "       'KA09HGXXXX', 'KA53W4XXXX', 'KA53X9XXXX', 'TN24AJXXXX',\n",
       "       'DEEPAKXXXX', 'CHANGAXXXX', 'MH31DYXXXX', 'KA15K3XXXX',\n",
       "       'MH14CRXXXX', 'KA19EJXXXX', 'TN39BFXXXX', 'KA51H9XXXX',\n",
       "       'TS07FKXXXX', 'KA02JDXXXX', 'AP02BLXXXX', 'KA53X1XXXX',\n",
       "       'SHAKTHXXXX', 'KA03JRXXXX', 'KA03EHXXXX', 'KA05KJXXXX',\n",
       "       'KA53W9XXXX', 'KA53EXXXXX', 'KA29EDXXXX', 'KA09HPXXXX',\n",
       "       'AP04BVXXXX', 'RAMACHXXXX', 'KA22ECXXXX', 'KA53EYXXXX',\n",
       "       'CHETHAXXXX', 'KA50Y7XXXX', 'KA05KNXXXX', 'AP03CFXXXX',\n",
       "       'KA53EZXXXX', 'VENKATXXXX', 'KA23ESXXXX', 'AP09BDXXXX',\n",
       "       'KA51EPXXXX', 'NEWNEWXXXX', 'KA53X3XXXX', 'GAJENDXXXX',\n",
       "       'NITHINXXXX', 'KA03HDXXXX', 'AP09CBXXXX', 'TN19Q1XXXX',\n",
       "       'KA50J0XXXX', 'DL3SBFXXXX', 'KA05HFXXXX', 'KA08R9XXXX',\n",
       "       'TN56Y2XXXX', 'KA02HHXXXX', 'DL3SBTXXXX', 'TN24AKXXXX',\n",
       "       'KA07W4XXXX', 'KA51U5XXXX', 'KA01EFXXXX', 'MADHUHXXXX',\n",
       "       'KA03JQXXXX', 'KA02JJXXXX', 'JH04N9XXXX', 'KA51V4XXXX',\n",
       "       'KA05HHXXXX', 'KA53TCXXXX', 'PB08BHXXXX', 'TAMILAXXXX',\n",
       "       'SHIVAKXXXX', 'KL03V9XXXX', 'AP26ALXXXX', 'KA01HAXXXX',\n",
       "       'AP31BVXXXX', 'KA04HBXXXX', 'MAHADEXXXX', 'KA09HTXXXX',\n",
       "       'DL5SZ0XXXX', 'KA53W7XXXX', 'MH14FJXXXX', 'TS10EBXXXX',\n",
       "       'KA32EEXXXX', 'TN30AFXXXX', 'AP21ANXXXX', 'KA09HDXXXX',\n",
       "       'TN14D4XXXX', 'AP09CNXXXX', 'KA53S2XXXX', 'KA02HUXXXX',\n",
       "       'KA20ENXXXX', 'AP05BHXXXX', 'UP65REXXXX', 'KA20EQXXXX',\n",
       "       'ANANDAXXXX', 'KA53Y5XXXX', 'KA09ETXXXX', 'ANANDXXXX',\n",
       "       'AMITABXXXX', 'AP29BPXXXX', 'TN20BDXXXX', 'KA21R7XXXX',\n",
       "       'KL12F5XXXX', 'TN14A9XXXX', 'KA04HMXXXX', 'KA51K9XXXX',\n",
       "       'KA03JTXXXX', 'KL22F8XXXX', 'UP32EEXXXX', 'KA18W7XXXX',\n",
       "       'TN11Y1XXXX', 'KA53C9XXXX', 'KA31S4XXXX', 'KA56H4XXXX',\n",
       "       'KA01HWXXXX', '177XXXX', 'KA05HKXXXX', 'KA06HAXXXX', 'KA14EQXXXX',\n",
       "       'BALACHXXXX', 'PRASADXXXX', 'KA41Y9XXXX', 'DINESHXXXX',\n",
       "       'KA51EDXXXX', 'OD02Y6XXXX', 'AP07BBXXXX', 'KA12GGXXXX',\n",
       "       'KA04HGXXXX', 'KA51ELXXXX', 'KA04JJXXXX', 'AP37AVXXXX',\n",
       "       'KA23EEXXXX', 'MUTTAPXXXX', 'AP03CCXXXX', 'KA04HYXXXX',\n",
       "       'KA53W6XXXX', 'KA03EWXXXX', 'KA51W4XXXX', 'KA01JBXXXX',\n",
       "       'KA53X7XXXX', 'TN29BUXXXX', 'KA55H0XXXX', 'DL7SBSXXXX',\n",
       "       'KA03JSXXXX', 'KA03JVXXXX', 'KA51EFXXXX', 'KA04HVXXXX',\n",
       "       'KA02JTXXXX', 'TN10ALXXXX', 'KA53H9XXXX', 'KA51HAXXXX',\n",
       "       'KA07X3XXXX', 'KA10R9XXXX', 'AP27BTXXXX', 'AP02BGXXXX',\n",
       "       'KA01ETXXXX', 'KA51U1XXXX', 'V15XXXX', 'KA04ECXXXX', 'KA41V3XXXX',\n",
       "       'AP30APXXXX', 'KA02EQXXXX', 'KA04HHXXXX', 'AP10AFXXXX',\n",
       "       'KA02EZXXXX', 'TN22CEXXXX', 'KA02EYXXXX', 'UK07BJXXXX',\n",
       "       'KA41EDXXXX', 'NEEEWVXXXX', 'KA66H0XXXX', 'KA02G1XXXX',\n",
       "       'KA01HQXXXX', 'KA05HPXXXX', 'SGANGAXXXX', 'KA51EAXXXX',\n",
       "       'AP02BSXXXX', 'TN02ADXXXX', 'GOWTHAXXXX', 'BASAVAXXXX',\n",
       "       'TN33BHXXXX', 'DHEERAXXXX', 'KA53J5XXXX', 'KA05KGXXXX',\n",
       "       'KA04JNXXXX', 'AP16BXXXXX', 'KA53NEXXXX', 'TN68K4XXXX',\n",
       "       'GVIJAYXXXX', 'TN25BBXXXX', 'WB26P9XXXX', 'KA03HCXXXX',\n",
       "       'SURESHXXXX', 'KA02JPXXXX', 'CHALAPXXXX', 'TS08EPXXXX',\n",
       "       'KA45U4XXXX', 'DL6SN9XXXX', 'KA51V9XXXX', 'KA05JVXXXX',\n",
       "       'KA65Q2XXXX', 'KA51X8XXXX', 'KA01EYXXXX', 'MH12HYXXXX',\n",
       "       'KA09ERXXXX', 'AP03CPXXXX', 'AP09BWXXXX', 'MH14FLXXXX',\n",
       "       'KA01HZXXXX', 'KA50L9XXXX', 'AP07BDXXXX', 'KL05ARXXXX',\n",
       "       'HR26CUXXXX', 'AP07DAXXXX', 'KA51S6XXXX', 'KA51HCXXXX',\n",
       "       'AP03AMXXXX', 'WB24AJXXXX', 'KA03HPXXXX', 'KA01HEXXXX',\n",
       "       'KA51EJXXXX', 'JKA51EXXXX', 'KA01HYXXXX', 'MH03BXXXXX',\n",
       "       'KA40H9XXXX', 'KA07EAXXXX', 'KA13ELXXXX', 'MH24U1XXXX',\n",
       "       'KA11EJXXXX', 'KA53Q3XXXX', 'VINAYKXXXX', 'KA05JYXXXX',\n",
       "       'KA14EAXXXX', 'TN04ACXXXX', 'KA53E4XXXX', 'WB7967XXXX',\n",
       "       'KA41EKXXXX', 'MP12CPXXXX', 'KA03HKXXXX', 'NEWFORXXXX',\n",
       "       'AP26AHXXXX', 'KA06EPXXXX', 'AP28CFXXXX', 'KA08V7XXXX',\n",
       "       'TN42S8XXXX', 'TS09ERXXXX', 'TN25AVXXXX', 'KA05HUXXXX',\n",
       "       'TN40J2XXXX', 'KA05EYXXXX', 'KA05HQXXXX', 'AP03P3XXXX',\n",
       "       'KA05JNXXXX', 'KA05JTXXXX', 'UP16Y7XXXX', 'KA53REXXXX',\n",
       "       'KA51W6XXXX', 'TN20BMXXXX', 'KA05JXXXXX', 'TN48AJXXXX',\n",
       "       'KA04JRXXXX', 'KA09EHXXXX', 'KA513EXXXX', 'KA05JHXXXX',\n",
       "       'KA53JEXXXX', 'KA02JMXXXX', 'KA53JDXXXX', 'KA03EXXXXX',\n",
       "       'TN25AUXXXX', 'MH14DKXXXX', 'HR26DJXXXX', 'MH14CBXXXX',\n",
       "       'KL70C2XXXX', 'NAGANAXXXX', 'KA02JVXXXX', 'KA41X3XXXX',\n",
       "       'KA04JEXXXX', 'RGAJENXXXX', 'KA06ECXXXX', 'TN39BLXXXX',\n",
       "       'MH09CXXXXX', 'PRURUSXXXX', 'KA05HMXXXX', 'KA40Q4XXXX',\n",
       "       'MH31DJXXXX', 'OD19F4XXXX', 'AP09CMXXXX', 'KA02HRXXXX',\n",
       "       'JANAHAXXXX', 'KA18V1XXXX', 'NEMEECXXXX', 'HR23BTXXXX',\n",
       "       'AP31BBXXXX', 'TN09AVXXXX', 'TC117XXXX', 'KA09ENXXXX',\n",
       "       'KA31S2XXXX', 'KA21K8XXXX', 'UP32BZXXXX', '1STXXXX', 'KA50W9XXXX',\n",
       "       'KA34EHXXXX', 'AP04BHXXXX', 'KA39Q9XXXX', 'KA51R4XXXX',\n",
       "       'KA09HHXXXX', 'KA03JUXXXX', 'OR02BCXXXX', 'TN49AYXXXX',\n",
       "       'LALTESXXXX', 'KUPPAIXXXX', 'TN36AXXXXX', 'KA51ESXXXX',\n",
       "       'KA05JZXXXX', 'KA02HQXXXX', 'TN70E6XXXX', 'MUTHAPXXXX',\n",
       "       'KA04JPXXXX', 'MH12NDXXXX', 'CG07LZXXXX', 'TN48S0XXXX',\n",
       "       'AP13CBXXXX', 'KA13EEXXXX', 'KA02HSXXXX', 'AP03BYXXXX',\n",
       "       'KA06JBXXXX', 'AP03BBXXXX', 'KA02HKXXXX', 'KA02HCXXXX',\n",
       "       'KA23EAXXXX', 'MUNIRAXXXX', 'KA08V2XXXX', 'KA51HEXXXX',\n",
       "       'KA01HPXXXX', 'KA21K9XXXX', 'RANGANXXXX', 'AP03BTXXXX',\n",
       "       'SOMASHXXXX', 'VEERESXXXX', 'MOHAMMXXXX', 'RAVICHXXXX',\n",
       "       'KA41H4XXXX', 'KA41J6XXXX', 'KA01X2XXXX', 'KA03EUXXXX',\n",
       "       'KA41EBXXXX', 'AP03ARXXXX', 'GANESHXXXX', 'KA05EWXXXX',\n",
       "       'SATHISXXXX', 'KL7339XXXX', 'UP78DMXXXX', 'AP03CAXXXX',\n",
       "       'NAGESHXXXX', 'EYLAVAXXXX', 'MH12MTXXXX', 'SYEDXXXX', 'KA50EAXXXX',\n",
       "       'KA51EWXXXX', 'KA50U6XXXX', 'KA04HUXXXX', 'KL6838XXXX',\n",
       "       'KA01HUXXXX', 'JAGANAXXXX', 'KA53Y8XXXX', 'SHASHIXXXX',\n",
       "       'KA52Q6XXXX', 'UK07BUXXXX', 'KA06EKXXXX', 'KA50Y8XXXX',\n",
       "       'SUBBUXXXX', 'KA05KLXXXX', 'AP07CNXXXX', 'BHIMARXXXX',\n",
       "       'JITESHXXXX', 'YARABXXXX', 'SHIVARXXXX', 'HR26CWXXXX',\n",
       "       'KA04EZXXXX', 'KA28EGXXXX', 'KA55J9XXXX', 'BHASKAXXXX',\n",
       "       'LJANAKXXXX', 'KA02JSXXXX', 'KA05JUXXXX', 'AP02APXXXX',\n",
       "       'MH12HSXXXX', 'RKUPPAXXXX', 'KA01EWXXXX', 'AP02AVXXXX',\n",
       "       'KA41L7XXXX', 'TN34L1XXXX', 'RAMESHXXXX', 'MURUGAXXXX',\n",
       "       'KA41EJXXXX', 'TN07AKXXXX', 'KA05HSXXXX', 'UK07ASXXXX',\n",
       "       'MH27AUXXXX', 'KA50U5XXXX', 'KA41K4XXXX', 'HARIHAXXXX',\n",
       "       'KA53W1XXXX', 'KA01JAXXXX', 'KA19E4XXXX', 'KA07Y8XXXX',\n",
       "       'KA41EAXXXX', 'KA01EJXXXX', 'TN07EHXXXX', '866030XXXX',\n",
       "       'KA51HDXXXX', 'RJ19SRXXXX', 'KA02HYXXXX', 'MH12LFXXXX',\n",
       "       'KA41J7XXXX', 'OR14N5XXXX', '949091XXXX', 'KA40ECXXXX',\n",
       "       '962029XXXX', 'MH02DRXXXX', 'KA02JWXXXX', 'KA25EKXXXX',\n",
       "       'AP23ALXXXX'], dtype=object)"
      ]
     },
     "execution_count": 12,
     "metadata": {},
     "output_type": "execute_result"
    }
   ],
   "source": [
    "data.vehicle_no.unique()"
   ]
  },
  {
   "cell_type": "code",
   "execution_count": null,
   "id": "QkOQAx0ZKysM",
   "metadata": {
    "id": "QkOQAx0ZKysM"
   },
   "outputs": [],
   "source": [
    "for row in data.vehicle_no:\n",
    "  data.vehicle_no.replace(row, row[:2], inplace=True)"
   ]
  },
  {
   "cell_type": "code",
   "execution_count": null,
   "id": "PU6FG--0KysM",
   "metadata": {
    "id": "PU6FG--0KysM"
   },
   "outputs": [],
   "source": [
    "data.vehicle_no.replace('ka', 'KA', inplace=True)"
   ]
  },
  {
   "cell_type": "code",
   "execution_count": null,
   "id": "y3P07zdzKysN",
   "metadata": {
    "id": "y3P07zdzKysN",
    "outputId": "87755099-9745-4b17-f3d9-0502201a20c3"
   },
   "outputs": [
    {
     "data": {
      "text/html": [
       "<div>\n",
       "<style scoped>\n",
       "    .dataframe tbody tr th:only-of-type {\n",
       "        vertical-align: middle;\n",
       "    }\n",
       "\n",
       "    .dataframe tbody tr th {\n",
       "        vertical-align: top;\n",
       "    }\n",
       "\n",
       "    .dataframe thead th {\n",
       "        text-align: right;\n",
       "    }\n",
       "</style>\n",
       "<table border=\"1\" class=\"dataframe\">\n",
       "  <thead>\n",
       "    <tr style=\"text-align: right;\">\n",
       "      <th></th>\n",
       "      <th>business_partner_name</th>\n",
       "      <th>vehicle_no</th>\n",
       "      <th>vehicle_model</th>\n",
       "      <th>current_km_reading</th>\n",
       "      <th>invoice_line_text</th>\n",
       "    </tr>\n",
       "  </thead>\n",
       "  <tbody>\n",
       "    <tr>\n",
       "      <th>0</th>\n",
       "      <td>other</td>\n",
       "      <td>KA</td>\n",
       "      <td>BAJAJ PULSAR 150</td>\n",
       "      <td>523</td>\n",
       "      <td>CHAIN LUBRICATION</td>\n",
       "    </tr>\n",
       "    <tr>\n",
       "      <th>1</th>\n",
       "      <td>vinoXXXXXXXXXX</td>\n",
       "      <td>KA</td>\n",
       "      <td>BAJAJ AVENGER STREET 220</td>\n",
       "      <td>2750</td>\n",
       "      <td>CHAIN LUBRICATION</td>\n",
       "    </tr>\n",
       "    <tr>\n",
       "      <th>2</th>\n",
       "      <td>other</td>\n",
       "      <td>KA</td>\n",
       "      <td>BAJAJ V</td>\n",
       "      <td>45421</td>\n",
       "      <td>GENERAL SERVICE</td>\n",
       "    </tr>\n",
       "    <tr>\n",
       "      <th>3</th>\n",
       "      <td>other</td>\n",
       "      <td>KA</td>\n",
       "      <td>BAJAJ PULSAR 150</td>\n",
       "      <td>523</td>\n",
       "      <td>3M OIL</td>\n",
       "    </tr>\n",
       "    <tr>\n",
       "      <th>4</th>\n",
       "      <td>other</td>\n",
       "      <td>KA</td>\n",
       "      <td>BAJAJ PULSAR 150</td>\n",
       "      <td>5500</td>\n",
       "      <td>3M OIL</td>\n",
       "    </tr>\n",
       "    <tr>\n",
       "      <th>...</th>\n",
       "      <td>...</td>\n",
       "      <td>...</td>\n",
       "      <td>...</td>\n",
       "      <td>...</td>\n",
       "      <td>...</td>\n",
       "    </tr>\n",
       "    <tr>\n",
       "      <th>15563</th>\n",
       "      <td>other</td>\n",
       "      <td>KA</td>\n",
       "      <td>BAJAJ PULSAR 150</td>\n",
       "      <td>91448</td>\n",
       "      <td>GENERAL SERVICE</td>\n",
       "    </tr>\n",
       "    <tr>\n",
       "      <th>15564</th>\n",
       "      <td>other</td>\n",
       "      <td>KA</td>\n",
       "      <td>BAJAJ PULSAR 150</td>\n",
       "      <td>91448</td>\n",
       "      <td>CHAIN LUBRICATION</td>\n",
       "    </tr>\n",
       "    <tr>\n",
       "      <th>15565</th>\n",
       "      <td>other</td>\n",
       "      <td>KA</td>\n",
       "      <td>BAJAJ PULSAR 150</td>\n",
       "      <td>91448</td>\n",
       "      <td>ENGINE OIL</td>\n",
       "    </tr>\n",
       "    <tr>\n",
       "      <th>15566</th>\n",
       "      <td>other</td>\n",
       "      <td>KA</td>\n",
       "      <td>BAJAJ PULSAR NS 160</td>\n",
       "      <td>2914</td>\n",
       "      <td>POLISH</td>\n",
       "    </tr>\n",
       "    <tr>\n",
       "      <th>15567</th>\n",
       "      <td>other</td>\n",
       "      <td>KA</td>\n",
       "      <td>BAJAJ PULSAR NS 160</td>\n",
       "      <td>2914</td>\n",
       "      <td>ENGINE OIL</td>\n",
       "    </tr>\n",
       "  </tbody>\n",
       "</table>\n",
       "<p>15568 rows × 5 columns</p>\n",
       "</div>"
      ],
      "text/plain": [
       "      business_partner_name vehicle_no             vehicle_model  \\\n",
       "0                     other         KA          BAJAJ PULSAR 150   \n",
       "1            vinoXXXXXXXXXX         KA  BAJAJ AVENGER STREET 220   \n",
       "2                     other         KA                   BAJAJ V   \n",
       "3                     other         KA          BAJAJ PULSAR 150   \n",
       "4                     other         KA          BAJAJ PULSAR 150   \n",
       "...                     ...        ...                       ...   \n",
       "15563                 other         KA          BAJAJ PULSAR 150   \n",
       "15564                 other         KA          BAJAJ PULSAR 150   \n",
       "15565                 other         KA          BAJAJ PULSAR 150   \n",
       "15566                 other         KA       BAJAJ PULSAR NS 160   \n",
       "15567                 other         KA       BAJAJ PULSAR NS 160   \n",
       "\n",
       "       current_km_reading  invoice_line_text  \n",
       "0                     523  CHAIN LUBRICATION  \n",
       "1                    2750  CHAIN LUBRICATION  \n",
       "2                   45421    GENERAL SERVICE  \n",
       "3                     523             3M OIL  \n",
       "4                    5500             3M OIL  \n",
       "...                   ...                ...  \n",
       "15563               91448    GENERAL SERVICE  \n",
       "15564               91448  CHAIN LUBRICATION  \n",
       "15565               91448         ENGINE OIL  \n",
       "15566                2914             POLISH  \n",
       "15567                2914         ENGINE OIL  \n",
       "\n",
       "[15568 rows x 5 columns]"
      ]
     },
     "execution_count": 13,
     "metadata": {},
     "output_type": "execute_result"
    }
   ],
   "source": [
    "data"
   ]
  },
  {
   "cell_type": "markdown",
   "id": "748Nr8OdKysN",
   "metadata": {
    "id": "748Nr8OdKysN"
   },
   "source": [
    "Now, similarly for feature **'vehicle_no'** also, we will take top 30 values that has more repeated and rest categorized as 'other'."
   ]
  },
  {
   "cell_type": "code",
   "execution_count": null,
   "id": "qpJ0lWfiKysO",
   "metadata": {
    "id": "qpJ0lWfiKysO",
    "outputId": "c9ff72e5-5ff3-477c-84c2-9930a24333dd"
   },
   "outputs": [
    {
     "data": {
      "text/plain": [
       "80"
      ]
     },
     "execution_count": 16,
     "metadata": {},
     "output_type": "execute_result"
    }
   ],
   "source": [
    "data.vehicle_no.nunique()"
   ]
  },
  {
   "cell_type": "code",
   "execution_count": null,
   "id": "hkg4ICDiKysO",
   "metadata": {
    "id": "hkg4ICDiKysO"
   },
   "outputs": [],
   "source": [
    "pd.set_option('display.max_rows', None)"
   ]
  },
  {
   "cell_type": "code",
   "execution_count": null,
   "id": "DPU3Ri-LKysO",
   "metadata": {
    "id": "DPU3Ri-LKysO"
   },
   "outputs": [],
   "source": [
    "top_30_vehicle_no = ['KA', 'AP', 'TN', 'MH', 'TS', 'KL', 'DL', 'NE', 'MA', 'CH', 'VE', 'SU', 'SH', 'UP', \n",
    "                     'MU', 'MP', 'RA', 'RJ', 'UK', 'NA', 'HR', 'FO', 'VI', 'AN', 'PY', 'OD', 'SA', 'PR', 'OR', 'BA']"
   ]
  },
  {
   "cell_type": "code",
   "execution_count": null,
   "id": "eTiWXRsDKysP",
   "metadata": {
    "id": "eTiWXRsDKysP"
   },
   "outputs": [],
   "source": [
    "data.loc[data.vehicle_no.isin(top_30_vehicle_no)==False, ['vehicle_no']] = 'other'"
   ]
  },
  {
   "cell_type": "code",
   "execution_count": null,
   "id": "kpUl5fePKysP",
   "metadata": {
    "id": "kpUl5fePKysP",
    "outputId": "eac6bd75-f1ba-495b-cfc1-f1b311dbfb0f"
   },
   "outputs": [
    {
     "data": {
      "text/plain": [
       "KA       13878\n",
       "AP         304\n",
       "other      286\n",
       "TN         266\n",
       "MH         191\n",
       "TS          89\n",
       "KL          73\n",
       "DL          37\n",
       "NE          36\n",
       "CH          34\n",
       "MA          34\n",
       "SU          25\n",
       "VE          25\n",
       "SH          24\n",
       "UP          23\n",
       "MU          22\n",
       "MP          22\n",
       "RJ          19\n",
       "RA          19\n",
       "UK          19\n",
       "NA          18\n",
       "HR          17\n",
       "FO          15\n",
       "VI          14\n",
       "PY          13\n",
       "AN          13\n",
       "SA          11\n",
       "OD          11\n",
       "BA          10\n",
       "PR          10\n",
       "OR          10\n",
       "Name: vehicle_no, dtype: int64"
      ]
     },
     "execution_count": 12,
     "metadata": {},
     "output_type": "execute_result"
    }
   ],
   "source": [
    "data.vehicle_no.value_counts()"
   ]
  },
  {
   "cell_type": "code",
   "execution_count": null,
   "id": "GsDuJ8TBKysP",
   "metadata": {
    "id": "GsDuJ8TBKysP",
    "outputId": "2587b151-812f-4e43-be7f-30bc13a437a6"
   },
   "outputs": [
    {
     "data": {
      "text/html": [
       "<div>\n",
       "<style scoped>\n",
       "    .dataframe tbody tr th:only-of-type {\n",
       "        vertical-align: middle;\n",
       "    }\n",
       "\n",
       "    .dataframe tbody tr th {\n",
       "        vertical-align: top;\n",
       "    }\n",
       "\n",
       "    .dataframe thead th {\n",
       "        text-align: right;\n",
       "    }\n",
       "</style>\n",
       "<table border=\"1\" class=\"dataframe\">\n",
       "  <thead>\n",
       "    <tr style=\"text-align: right;\">\n",
       "      <th></th>\n",
       "      <th>business_partner_name</th>\n",
       "      <th>vehicle_no</th>\n",
       "      <th>vehicle_model</th>\n",
       "      <th>current_km_reading</th>\n",
       "      <th>invoice_line_text</th>\n",
       "    </tr>\n",
       "  </thead>\n",
       "  <tbody>\n",
       "    <tr>\n",
       "      <th>0</th>\n",
       "      <td>other</td>\n",
       "      <td>KA</td>\n",
       "      <td>BAJAJ PULSAR 150</td>\n",
       "      <td>523</td>\n",
       "      <td>CHAIN LUBRICATION</td>\n",
       "    </tr>\n",
       "    <tr>\n",
       "      <th>1</th>\n",
       "      <td>vinoXXXXXXXXXX</td>\n",
       "      <td>KA</td>\n",
       "      <td>BAJAJ AVENGER STREET 220</td>\n",
       "      <td>2750</td>\n",
       "      <td>CHAIN LUBRICATION</td>\n",
       "    </tr>\n",
       "    <tr>\n",
       "      <th>2</th>\n",
       "      <td>other</td>\n",
       "      <td>KA</td>\n",
       "      <td>BAJAJ V</td>\n",
       "      <td>45421</td>\n",
       "      <td>GENERAL SERVICE</td>\n",
       "    </tr>\n",
       "    <tr>\n",
       "      <th>3</th>\n",
       "      <td>other</td>\n",
       "      <td>KA</td>\n",
       "      <td>BAJAJ PULSAR 150</td>\n",
       "      <td>523</td>\n",
       "      <td>3M OIL</td>\n",
       "    </tr>\n",
       "    <tr>\n",
       "      <th>4</th>\n",
       "      <td>other</td>\n",
       "      <td>KA</td>\n",
       "      <td>BAJAJ PULSAR 150</td>\n",
       "      <td>5500</td>\n",
       "      <td>3M OIL</td>\n",
       "    </tr>\n",
       "    <tr>\n",
       "      <th>...</th>\n",
       "      <td>...</td>\n",
       "      <td>...</td>\n",
       "      <td>...</td>\n",
       "      <td>...</td>\n",
       "      <td>...</td>\n",
       "    </tr>\n",
       "    <tr>\n",
       "      <th>15563</th>\n",
       "      <td>other</td>\n",
       "      <td>KA</td>\n",
       "      <td>BAJAJ PULSAR 150</td>\n",
       "      <td>91448</td>\n",
       "      <td>GENERAL SERVICE</td>\n",
       "    </tr>\n",
       "    <tr>\n",
       "      <th>15564</th>\n",
       "      <td>other</td>\n",
       "      <td>KA</td>\n",
       "      <td>BAJAJ PULSAR 150</td>\n",
       "      <td>91448</td>\n",
       "      <td>CHAIN LUBRICATION</td>\n",
       "    </tr>\n",
       "    <tr>\n",
       "      <th>15565</th>\n",
       "      <td>other</td>\n",
       "      <td>KA</td>\n",
       "      <td>BAJAJ PULSAR 150</td>\n",
       "      <td>91448</td>\n",
       "      <td>ENGINE OIL</td>\n",
       "    </tr>\n",
       "    <tr>\n",
       "      <th>15566</th>\n",
       "      <td>other</td>\n",
       "      <td>KA</td>\n",
       "      <td>BAJAJ PULSAR NS 160</td>\n",
       "      <td>2914</td>\n",
       "      <td>POLISH</td>\n",
       "    </tr>\n",
       "    <tr>\n",
       "      <th>15567</th>\n",
       "      <td>other</td>\n",
       "      <td>KA</td>\n",
       "      <td>BAJAJ PULSAR NS 160</td>\n",
       "      <td>2914</td>\n",
       "      <td>ENGINE OIL</td>\n",
       "    </tr>\n",
       "  </tbody>\n",
       "</table>\n",
       "<p>15568 rows × 5 columns</p>\n",
       "</div>"
      ],
      "text/plain": [
       "      business_partner_name vehicle_no             vehicle_model  \\\n",
       "0                     other         KA          BAJAJ PULSAR 150   \n",
       "1            vinoXXXXXXXXXX         KA  BAJAJ AVENGER STREET 220   \n",
       "2                     other         KA                   BAJAJ V   \n",
       "3                     other         KA          BAJAJ PULSAR 150   \n",
       "4                     other         KA          BAJAJ PULSAR 150   \n",
       "...                     ...        ...                       ...   \n",
       "15563                 other         KA          BAJAJ PULSAR 150   \n",
       "15564                 other         KA          BAJAJ PULSAR 150   \n",
       "15565                 other         KA          BAJAJ PULSAR 150   \n",
       "15566                 other         KA       BAJAJ PULSAR NS 160   \n",
       "15567                 other         KA       BAJAJ PULSAR NS 160   \n",
       "\n",
       "       current_km_reading  invoice_line_text  \n",
       "0                     523  CHAIN LUBRICATION  \n",
       "1                    2750  CHAIN LUBRICATION  \n",
       "2                   45421    GENERAL SERVICE  \n",
       "3                     523             3M OIL  \n",
       "4                    5500             3M OIL  \n",
       "...                   ...                ...  \n",
       "15563               91448    GENERAL SERVICE  \n",
       "15564               91448  CHAIN LUBRICATION  \n",
       "15565               91448         ENGINE OIL  \n",
       "15566                2914             POLISH  \n",
       "15567                2914         ENGINE OIL  \n",
       "\n",
       "[15568 rows x 5 columns]"
      ]
     },
     "execution_count": 17,
     "metadata": {},
     "output_type": "execute_result"
    }
   ],
   "source": [
    "data"
   ]
  },
  {
   "cell_type": "markdown",
   "id": "IX3uoGBZKysQ",
   "metadata": {
    "id": "IX3uoGBZKysQ"
   },
   "source": [
    "Now we will apply LabelEncoder to categorical features."
   ]
  },
  {
   "cell_type": "code",
   "execution_count": null,
   "id": "gAjoPYJgKysQ",
   "metadata": {
    "id": "gAjoPYJgKysQ"
   },
   "outputs": [],
   "source": [
    "from sklearn.preprocessing import LabelEncoder"
   ]
  },
  {
   "cell_type": "code",
   "execution_count": null,
   "id": "iFDrpWWqbg0P",
   "metadata": {
    "id": "iFDrpWWqbg0P"
   },
   "outputs": [],
   "source": [
    "en_partner_name = LabelEncoder()\n",
    "data['business_partner_name'] = en_partner_name.fit_transform(data['business_partner_name'])"
   ]
  },
  {
   "cell_type": "code",
   "execution_count": null,
   "id": "FanjPp7Rcsss",
   "metadata": {
    "id": "FanjPp7Rcsss"
   },
   "outputs": [],
   "source": [
    "en_vehicle_no = LabelEncoder()\n",
    "data['vehicle_no'] = en_vehicle_no.fit_transform(data['vehicle_no'])"
   ]
  },
  {
   "cell_type": "code",
   "execution_count": null,
   "id": "Cjw9lqAOcwNS",
   "metadata": {
    "id": "Cjw9lqAOcwNS"
   },
   "outputs": [],
   "source": [
    "en_vehicle_model = LabelEncoder()\n",
    "data['vehicle_model'] = en_vehicle_model.fit_transform(data['vehicle_model'])"
   ]
  },
  {
   "cell_type": "code",
   "execution_count": null,
   "id": "ghU-j1HQ-tWj",
   "metadata": {
    "id": "ghU-j1HQ-tWj"
   },
   "outputs": [],
   "source": [
    "en_invoice_line_text = LabelEncoder()\n",
    "data['invoice_line_text'] = en_invoice_line_text.fit_transform(data['invoice_line_text'])"
   ]
  },
  {
   "cell_type": "code",
   "execution_count": null,
   "id": "kLmJeiNLdj4J",
   "metadata": {
    "colab": {
     "base_uri": "https://localhost:8080/",
     "height": 206
    },
    "executionInfo": {
     "elapsed": 15,
     "status": "ok",
     "timestamp": 1659844747975,
     "user": {
      "displayName": "lukmanul hakeem",
      "userId": "05969570853284345536"
     },
     "user_tz": -330
    },
    "id": "kLmJeiNLdj4J",
    "outputId": "928bb61d-b188-479e-a740-e1c1b41de743"
   },
   "outputs": [
    {
     "data": {
      "text/html": [
       "<div>\n",
       "<style scoped>\n",
       "    .dataframe tbody tr th:only-of-type {\n",
       "        vertical-align: middle;\n",
       "    }\n",
       "\n",
       "    .dataframe tbody tr th {\n",
       "        vertical-align: top;\n",
       "    }\n",
       "\n",
       "    .dataframe thead th {\n",
       "        text-align: right;\n",
       "    }\n",
       "</style>\n",
       "<table border=\"1\" class=\"dataframe\">\n",
       "  <thead>\n",
       "    <tr style=\"text-align: right;\">\n",
       "      <th></th>\n",
       "      <th>business_partner_name</th>\n",
       "      <th>vehicle_no</th>\n",
       "      <th>vehicle_model</th>\n",
       "      <th>current_km_reading</th>\n",
       "      <th>invoice_line_text</th>\n",
       "    </tr>\n",
       "  </thead>\n",
       "  <tbody>\n",
       "    <tr>\n",
       "      <th>0</th>\n",
       "      <td>9</td>\n",
       "      <td>7</td>\n",
       "      <td>12</td>\n",
       "      <td>523</td>\n",
       "      <td>2</td>\n",
       "    </tr>\n",
       "    <tr>\n",
       "      <th>1</th>\n",
       "      <td>20</td>\n",
       "      <td>7</td>\n",
       "      <td>2</td>\n",
       "      <td>2750</td>\n",
       "      <td>2</td>\n",
       "    </tr>\n",
       "    <tr>\n",
       "      <th>2</th>\n",
       "      <td>9</td>\n",
       "      <td>7</td>\n",
       "      <td>20</td>\n",
       "      <td>45421</td>\n",
       "      <td>5</td>\n",
       "    </tr>\n",
       "    <tr>\n",
       "      <th>3</th>\n",
       "      <td>9</td>\n",
       "      <td>7</td>\n",
       "      <td>12</td>\n",
       "      <td>523</td>\n",
       "      <td>0</td>\n",
       "    </tr>\n",
       "    <tr>\n",
       "      <th>4</th>\n",
       "      <td>9</td>\n",
       "      <td>7</td>\n",
       "      <td>12</td>\n",
       "      <td>5500</td>\n",
       "      <td>0</td>\n",
       "    </tr>\n",
       "  </tbody>\n",
       "</table>\n",
       "</div>"
      ],
      "text/plain": [
       "   business_partner_name  vehicle_no  vehicle_model  current_km_reading  \\\n",
       "0                      9           7             12                 523   \n",
       "1                     20           7              2                2750   \n",
       "2                      9           7             20               45421   \n",
       "3                      9           7             12                 523   \n",
       "4                      9           7             12                5500   \n",
       "\n",
       "   invoice_line_text  \n",
       "0                  2  \n",
       "1                  2  \n",
       "2                  5  \n",
       "3                  0  \n",
       "4                  0  "
      ]
     },
     "execution_count": 18,
     "metadata": {},
     "output_type": "execute_result"
    }
   ],
   "source": [
    "data.head()"
   ]
  },
  {
   "cell_type": "code",
   "execution_count": null,
   "id": "o6w3dVs_KysS",
   "metadata": {
    "id": "o6w3dVs_KysS",
    "outputId": "fc0f0bdd-8dcd-469a-f2d4-4ac5097d77e1"
   },
   "outputs": [
    {
     "name": "stdout",
     "output_type": "stream",
     "text": [
      "<class 'pandas.core.frame.DataFrame'>\n",
      "RangeIndex: 15568 entries, 0 to 15567\n",
      "Data columns (total 5 columns):\n",
      " #   Column                 Non-Null Count  Dtype\n",
      "---  ------                 --------------  -----\n",
      " 0   business_partner_name  15568 non-null  int32\n",
      " 1   vehicle_no             15568 non-null  int32\n",
      " 2   vehicle_model          15568 non-null  int32\n",
      " 3   current_km_reading     15568 non-null  int64\n",
      " 4   invoice_line_text      15568 non-null  int32\n",
      "dtypes: int32(4), int64(1)\n",
      "memory usage: 365.0 KB\n"
     ]
    }
   ],
   "source": [
    "data.info()"
   ]
  },
  {
   "cell_type": "code",
   "execution_count": null,
   "id": "9ruG4QalKysS",
   "metadata": {
    "id": "9ruG4QalKysS",
    "outputId": "1e18efa9-64fd-4a1e-b2ef-b8f06f57f554"
   },
   "outputs": [
    {
     "data": {
      "text/plain": [
       "business_partner_name      21\n",
       "vehicle_no                 31\n",
       "vehicle_model              28\n",
       "current_km_reading       3396\n",
       "invoice_line_text           7\n",
       "dtype: int64"
      ]
     },
     "execution_count": 30,
     "metadata": {},
     "output_type": "execute_result"
    }
   ],
   "source": [
    "data.nunique()"
   ]
  },
  {
   "cell_type": "code",
   "execution_count": null,
   "id": "oYmcart-KysS",
   "metadata": {
    "collapsed": true,
    "id": "oYmcart-KysS",
    "outputId": "afcb6cd9-fe96-4004-d94b-da49f2a70742"
   },
   "outputs": [
    {
     "data": {
      "text/plain": [
       "9     12831\n",
       "18      222\n",
       "7       205\n",
       "10      177\n",
       "14      164\n",
       "5       159\n",
       "15      155\n",
       "13      154\n",
       "4       141\n",
       "17      131\n",
       "19      128\n",
       "0       122\n",
       "2       121\n",
       "8       120\n",
       "16      110\n",
       "11      108\n",
       "12      108\n",
       "6       107\n",
       "3       104\n",
       "20      101\n",
       "1       100\n",
       "Name: business_partner_name, dtype: int64"
      ]
     },
     "execution_count": 26,
     "metadata": {},
     "output_type": "execute_result"
    }
   ],
   "source": [
    "data.business_partner_name.value_counts()"
   ]
  },
  {
   "cell_type": "code",
   "execution_count": null,
   "id": "etJR6LJzKysT",
   "metadata": {
    "collapsed": true,
    "id": "etJR6LJzKysT",
    "outputId": "ff4902b2-1de6-49f8-ed96-55ae8b218a48"
   },
   "outputs": [
    {
     "data": {
      "text/plain": [
       "7     13878\n",
       "1       304\n",
       "30      286\n",
       "24      266\n",
       "10      191\n",
       "25       89\n",
       "8        73\n",
       "4        37\n",
       "14       36\n",
       "3        34\n",
       "9        34\n",
       "23       25\n",
       "28       25\n",
       "22       24\n",
       "27       23\n",
       "12       22\n",
       "11       22\n",
       "20       19\n",
       "19       19\n",
       "26       19\n",
       "13       18\n",
       "6        17\n",
       "5        15\n",
       "29       14\n",
       "18       13\n",
       "0        13\n",
       "21       11\n",
       "15       11\n",
       "2        10\n",
       "17       10\n",
       "16       10\n",
       "Name: vehicle_no, dtype: int64"
      ]
     },
     "execution_count": 27,
     "metadata": {},
     "output_type": "execute_result"
    }
   ],
   "source": [
    "data.vehicle_no.value_counts()"
   ]
  },
  {
   "cell_type": "markdown",
   "id": "4Cb1z8QhKysT",
   "metadata": {
    "id": "4Cb1z8QhKysT"
   },
   "source": [
    "## Analysing features"
   ]
  },
  {
   "cell_type": "code",
   "execution_count": null,
   "id": "53gMnxodKysT",
   "metadata": {
    "id": "53gMnxodKysT"
   },
   "outputs": [],
   "source": [
    "import matplotlib.pyplot as plt\n",
    "import seaborn as sb"
   ]
  },
  {
   "cell_type": "code",
   "execution_count": null,
   "id": "fGAOOkfsKysT",
   "metadata": {
    "id": "fGAOOkfsKysT",
    "outputId": "0d344849-e461-4ed8-e794-e71658773571"
   },
   "outputs": [
    {
     "name": "stderr",
     "output_type": "stream",
     "text": [
      "C:\\Users\\admin\\anaconda3\\lib\\site-packages\\seaborn\\distributions.py:2619: FutureWarning: `distplot` is a deprecated function and will be removed in a future version. Please adapt your code to use either `displot` (a figure-level function with similar flexibility) or `histplot` (an axes-level function for histograms).\n",
      "  warnings.warn(msg, FutureWarning)\n"
     ]
    },
    {
     "data": {
      "image/png": "[encoded data removed]",
      "text/plain": [
       "<Figure size 432x288 with 1 Axes>"
      ]
     },
     "metadata": {
      "needs_background": "light"
     },
     "output_type": "display_data"
    }
   ],
   "source": [
    "sb.distplot(data.current_km_reading)\n",
    "plt.show()"
   ]
  },
  {
   "cell_type": "code",
   "execution_count": null,
   "id": "XF1kf05eKysU",
   "metadata": {
    "id": "XF1kf05eKysU"
   },
   "outputs": [],
   "source": [
    "cat_num_feat = ['business_partner_name', 'vehicle_no', 'vehicle_model']"
   ]
  },
  {
   "cell_type": "code",
   "execution_count": null,
   "id": "4rTq4czCKysU",
   "metadata": {
    "id": "4rTq4czCKysU",
    "outputId": "0b2d2411-d60a-4565-b269-320f8f01d870"
   },
   "outputs": [
    {
     "data": {
      "image/png": "[encoded data removed]",
      "text/plain": [
       "<Figure size 1800x1080 with 3 Axes>"
      ]
     },
     "metadata": {
      "needs_background": "light"
     },
     "output_type": "display_data"
    }
   ],
   "source": [
    "plt.figure(figsize=(25, 15))\n",
    "plt_num=1\n",
    "for feat in cat_num_feat:\n",
    "  if plt_num<=len(cat_num_feat):\n",
    "    plt.subplot(3, 1, plt_num)\n",
    "    sb.countplot(x=feat, hue='invoice_line_text', data=data)\n",
    "    plt.xlabel(feat, fontsize=15)\n",
    "    plt.ylabel('count', fontsize=15)\n",
    "    plt_num+=1\n",
    "plt.show()"
   ]
  },
  {
   "cell_type": "markdown",
   "id": "sAR-4bZ2KysU",
   "metadata": {
    "id": "sAR-4bZ2KysU"
   },
   "source": [
    "From the first two plots, most of vehicle spare-parts are associated with a specific 'business_partner_name' and 'vehicle_no'."
   ]
  },
  {
   "cell_type": "code",
   "execution_count": null,
   "id": "NuQ1nxpuKysV",
   "metadata": {
    "id": "NuQ1nxpuKysV",
    "outputId": "8ddefa85-b705-4be9-ff19-35271cc8f036",
    "scrolled": true
   },
   "outputs": [
    {
     "data": {
      "text/html": [
       "<div>\n",
       "<style scoped>\n",
       "    .dataframe tbody tr th:only-of-type {\n",
       "        vertical-align: middle;\n",
       "    }\n",
       "\n",
       "    .dataframe tbody tr th {\n",
       "        vertical-align: top;\n",
       "    }\n",
       "\n",
       "    .dataframe thead th {\n",
       "        text-align: right;\n",
       "    }\n",
       "</style>\n",
       "<table border=\"1\" class=\"dataframe\">\n",
       "  <thead>\n",
       "    <tr style=\"text-align: right;\">\n",
       "      <th></th>\n",
       "      <th>business_partner_name</th>\n",
       "      <th>vehicle_no</th>\n",
       "      <th>vehicle_model</th>\n",
       "      <th>current_km_reading</th>\n",
       "      <th>invoice_line_text</th>\n",
       "    </tr>\n",
       "  </thead>\n",
       "  <tbody>\n",
       "    <tr>\n",
       "      <th>business_partner_name</th>\n",
       "      <td>1.000000</td>\n",
       "      <td>0.011490</td>\n",
       "      <td>0.030687</td>\n",
       "      <td>0.004347</td>\n",
       "      <td>-0.005810</td>\n",
       "    </tr>\n",
       "    <tr>\n",
       "      <th>vehicle_no</th>\n",
       "      <td>0.011490</td>\n",
       "      <td>1.000000</td>\n",
       "      <td>-0.026666</td>\n",
       "      <td>-0.026213</td>\n",
       "      <td>0.004931</td>\n",
       "    </tr>\n",
       "    <tr>\n",
       "      <th>vehicle_model</th>\n",
       "      <td>0.030687</td>\n",
       "      <td>-0.026666</td>\n",
       "      <td>1.000000</td>\n",
       "      <td>-0.002377</td>\n",
       "      <td>-0.003044</td>\n",
       "    </tr>\n",
       "    <tr>\n",
       "      <th>current_km_reading</th>\n",
       "      <td>0.004347</td>\n",
       "      <td>-0.026213</td>\n",
       "      <td>-0.002377</td>\n",
       "      <td>1.000000</td>\n",
       "      <td>0.067835</td>\n",
       "    </tr>\n",
       "    <tr>\n",
       "      <th>invoice_line_text</th>\n",
       "      <td>-0.005810</td>\n",
       "      <td>0.004931</td>\n",
       "      <td>-0.003044</td>\n",
       "      <td>0.067835</td>\n",
       "      <td>1.000000</td>\n",
       "    </tr>\n",
       "  </tbody>\n",
       "</table>\n",
       "</div>"
      ],
      "text/plain": [
       "                       business_partner_name  vehicle_no  vehicle_model  \\\n",
       "business_partner_name               1.000000    0.011490       0.030687   \n",
       "vehicle_no                          0.011490    1.000000      -0.026666   \n",
       "vehicle_model                       0.030687   -0.026666       1.000000   \n",
       "current_km_reading                  0.004347   -0.026213      -0.002377   \n",
       "invoice_line_text                  -0.005810    0.004931      -0.003044   \n",
       "\n",
       "                       current_km_reading  invoice_line_text  \n",
       "business_partner_name            0.004347          -0.005810  \n",
       "vehicle_no                      -0.026213           0.004931  \n",
       "vehicle_model                   -0.002377          -0.003044  \n",
       "current_km_reading               1.000000           0.067835  \n",
       "invoice_line_text                0.067835           1.000000  "
      ]
     },
     "execution_count": 32,
     "metadata": {},
     "output_type": "execute_result"
    }
   ],
   "source": [
    "data.corr()"
   ]
  },
  {
   "cell_type": "markdown",
   "id": "u7mAHrPrKysV",
   "metadata": {
    "id": "u7mAHrPrKysV"
   },
   "source": [
    "It is noticable that correlation between input and output variable is very low. "
   ]
  },
  {
   "cell_type": "markdown",
   "id": "FCEJOaxU6NTC",
   "metadata": {
    "executionInfo": {
     "elapsed": 8,
     "status": "ok",
     "timestamp": 1659844753795,
     "user": {
      "displayName": "lukmanul hakeem",
      "userId": "05969570853284345536"
     },
     "user_tz": -330
    },
    "id": "FCEJOaxU6NTC"
   },
   "source": [
    "## Modelling"
   ]
  },
  {
   "cell_type": "code",
   "execution_count": null,
   "id": "bhQXEXfYA4eG",
   "metadata": {
    "id": "bhQXEXfYA4eG"
   },
   "outputs": [],
   "source": [
    "from sklearn.model_selection import train_test_split\n",
    "from sklearn.preprocessing import StandardScaler\n",
    "from sklearn.model_selection import StratifiedKFold, cross_val_score, KFold\n",
    "from sklearn.pipeline import Pipeline\n",
    "from imblearn.pipeline import Pipeline as imbpipeline\n",
    "from imblearn.over_sampling import SMOTE\n",
    "from collections import Counter\n",
    "\n",
    "from sklearn.linear_model import LogisticRegression\n",
    "from sklearn.neighbors import KNeighborsClassifier\n",
    "from sklearn.svm import SVC\n",
    "from sklearn.naive_bayes import GaussianNB\n",
    "from sklearn.tree import DecisionTreeClassifier\n",
    "from sklearn.ensemble import BaggingClassifier\n",
    "from sklearn.ensemble import RandomForestClassifier\n",
    "from sklearn.ensemble import AdaBoostClassifier\n",
    "from sklearn.ensemble import GradientBoostingClassifier\n",
    "from xgboost import XGBClassifier\n",
    "from sklearn.neural_network import MLPClassifier\n",
    "\n",
    "from sklearn.metrics import confusion_matrix, accuracy_score, recall_score, classification_report"
   ]
  },
  {
   "cell_type": "code",
   "execution_count": null,
   "id": "h62AfuYU-lsE",
   "metadata": {
    "id": "h62AfuYU-lsE"
   },
   "outputs": [],
   "source": [
    "X = data.iloc[:, :-1]\n",
    "y = data.invoice_line_text"
   ]
  },
  {
   "cell_type": "code",
   "execution_count": null,
   "id": "mEH0v1p3_dYo",
   "metadata": {
    "id": "mEH0v1p3_dYo"
   },
   "outputs": [],
   "source": [
    "X_train, X_test, y_train, y_test = train_test_split(X, y, test_size=20, shuffle=True, stratify=y)"
   ]
  },
  {
   "cell_type": "code",
   "execution_count": null,
   "id": "5jYjG2grg_Fj",
   "metadata": {
    "colab": {
     "base_uri": "https://localhost:8080/"
    },
    "executionInfo": {
     "elapsed": 12,
     "status": "ok",
     "timestamp": 1659844752056,
     "user": {
      "displayName": "lukmanul hakeem",
      "userId": "05969570853284345536"
     },
     "user_tz": -330
    },
    "id": "5jYjG2grg_Fj",
    "outputId": "cf78e030-5e0f-452e-8b96-c14745637611"
   },
   "outputs": [
    {
     "data": {
      "text/plain": [
       "4    24.421147\n",
       "2    22.105737\n",
       "5    13.757396\n",
       "1    11.017494\n",
       "0    10.457937\n",
       "3    10.245691\n",
       "6     7.994597\n",
       "Name: invoice_line_text, dtype: float64"
      ]
     },
     "execution_count": 50,
     "metadata": {},
     "output_type": "execute_result"
    }
   ],
   "source": [
    "y_train.value_counts(normalize=True)*100"
   ]
  },
  {
   "cell_type": "code",
   "execution_count": null,
   "id": "Hih6lxVYg-8_",
   "metadata": {
    "colab": {
     "base_uri": "https://localhost:8080/"
    },
    "executionInfo": {
     "elapsed": 12,
     "status": "ok",
     "timestamp": 1659844753794,
     "user": {
      "displayName": "lukmanul hakeem",
      "userId": "05969570853284345536"
     },
     "user_tz": -330
    },
    "id": "Hih6lxVYg-8_",
    "outputId": "a683d6c9-7228-4b46-c1d0-b9e3d952b043"
   },
   "outputs": [
    {
     "data": {
      "text/plain": [
       "4    25.0\n",
       "2    20.0\n",
       "5    15.0\n",
       "0    10.0\n",
       "6    10.0\n",
       "1    10.0\n",
       "3    10.0\n",
       "Name: invoice_line_text, dtype: float64"
      ]
     },
     "execution_count": 51,
     "metadata": {},
     "output_type": "execute_result"
    }
   ],
   "source": [
    "y_test.value_counts(normalize=True)*100"
   ]
  },
  {
   "cell_type": "code",
   "execution_count": null,
   "id": "WtH8vgaKiWwk",
   "metadata": {
    "colab": {
     "base_uri": "https://localhost:8080/"
    },
    "executionInfo": {
     "elapsed": 5,
     "status": "ok",
     "timestamp": 1659844767941,
     "user": {
      "displayName": "lukmanul hakeem",
      "userId": "05969570853284345536"
     },
     "user_tz": -330
    },
    "id": "WtH8vgaKiWwk",
    "outputId": "75f8f469-5131-4000-9dc6-b69d190d59ae"
   },
   "outputs": [
    {
     "name": "stdout",
     "output_type": "stream",
     "text": [
      "Counter({4: 3797, 2: 3437, 5: 2139, 1: 1713, 0: 1626, 3: 1593, 6: 1243})\n"
     ]
    }
   ],
   "source": [
    "print(Counter(y_train))"
   ]
  },
  {
   "cell_type": "code",
   "execution_count": null,
   "id": "TDJxmGmFkVM1",
   "metadata": {
    "id": "TDJxmGmFkVM1"
   },
   "outputs": [],
   "source": [
    "## Oversampling of train data\n",
    "\n",
    "oversample = SMOTE()\n",
    "X_train_smt, y_train_smt = oversample.fit_resample(X_train, y_train)"
   ]
  },
  {
   "cell_type": "code",
   "execution_count": null,
   "id": "mnqiv-AWkVJ5",
   "metadata": {
    "colab": {
     "base_uri": "https://localhost:8080/"
    },
    "executionInfo": {
     "elapsed": 1046,
     "status": "ok",
     "timestamp": 1659844770078,
     "user": {
      "displayName": "lukmanul hakeem",
      "userId": "05969570853284345536"
     },
     "user_tz": -330
    },
    "id": "mnqiv-AWkVJ5",
    "outputId": "a4be041d-7c64-42c2-ff6c-8cdde02282fc"
   },
   "outputs": [
    {
     "name": "stdout",
     "output_type": "stream",
     "text": [
      "Counter({6: 3797, 4: 3797, 5: 3797, 0: 3797, 2: 3797, 3: 3797, 1: 3797})\n"
     ]
    }
   ],
   "source": [
    "print(Counter(y_train_smt))"
   ]
  },
  {
   "cell_type": "code",
   "execution_count": null,
   "id": "j8o5TiuZlx6k",
   "metadata": {
    "id": "j8o5TiuZlx6k"
   },
   "outputs": [],
   "source": [
    "## Standardizing of input features\n",
    "\n",
    "sc = StandardScaler()\n",
    "X_train_smt_sc = sc.fit_transform(X_train_smt)"
   ]
  },
  {
   "cell_type": "code",
   "execution_count": null,
   "id": "FIRdCIPOkVFa",
   "metadata": {
    "colab": {
     "base_uri": "https://localhost:8080/"
    },
    "executionInfo": {
     "elapsed": 19,
     "status": "ok",
     "timestamp": 1659844773027,
     "user": {
      "displayName": "lukmanul hakeem",
      "userId": "05969570853284345536"
     },
     "user_tz": -330
    },
    "id": "FIRdCIPOkVFa",
    "outputId": "b7323659-1968-4a78-8e76-404f12eec398"
   },
   "outputs": [
    {
     "data": {
      "text/plain": [
       "array([[-0.08009355, -0.21266849, -1.50778123, -0.24417682],\n",
       "       [-0.08009355, -0.21266849,  0.33387302, -0.18192583],\n",
       "       [-0.08009355, -0.21266849,  1.99136185, -0.57394396],\n",
       "       ...,\n",
       "       [-0.50239198, -0.21266849,  0.33387302, -0.56176233],\n",
       "       [-0.08009355, -0.21266849,  0.70220387, -0.41903589],\n",
       "       [-1.34698886,  0.26201372,  1.43886557, -0.57567049]])"
      ]
     },
     "execution_count": 56,
     "metadata": {},
     "output_type": "execute_result"
    }
   ],
   "source": [
    "X_train_smt_sc"
   ]
  },
  {
   "cell_type": "code",
   "execution_count": null,
   "id": "B9oMQ21KmFfH",
   "metadata": {
    "id": "B9oMQ21KmFfH"
   },
   "outputs": [],
   "source": [
    "X_test_sc = sc.transform(X_test)"
   ]
  },
  {
   "cell_type": "markdown",
   "id": "LIxgJ9HRmFU5",
   "metadata": {
    "id": "LIxgJ9HRmFU5"
   },
   "source": [
    "### Trying with Sklearn and ensemble algorithms"
   ]
  },
  {
   "cell_type": "code",
   "execution_count": null,
   "id": "hXQtGyvlBLOh",
   "metadata": {
    "id": "hXQtGyvlBLOh"
   },
   "outputs": [],
   "source": [
    "models = []\n",
    "\n",
    "models.append(('LR',LogisticRegression()))\n",
    "models.append(('KNN',KNeighborsClassifier()))\n",
    "models.append(('SVC',SVC()))\n",
    "models.append(('GNB',GaussianNB()))\n",
    "models.append(('DT',DecisionTreeClassifier()))\n",
    "models.append(('BC',BaggingClassifier()))\n",
    "models.append(('RF',RandomForestClassifier()))\n",
    "models.append(('ABC',AdaBoostClassifier()))\n",
    "models.append(('GBC',GradientBoostingClassifier()))\n",
    "models.append(('XGBC',XGBClassifier()))\n",
    "models.append(('MLPC',MLPClassifier()))"
   ]
  },
  {
   "cell_type": "code",
   "execution_count": null,
   "id": "LUqBcgkmk-zb",
   "metadata": {
    "id": "LUqBcgkmk-zb"
   },
   "outputs": [],
   "source": [
    "def train_test_model(model, X_train, y_train, X_test, y_test, score=None):\n",
    "  model_trained = model.fit(X_train, y_train)\n",
    "  train_score = model_trained.score(X_train, y_train)\n",
    "  y_pred = model_trained.predict(X_test)\n",
    "  test_score = model_trained.score(X_test, y_test)\n",
    "  acc_score = accuracy_score(y_test, y_pred)\n",
    "  return train_score, test_score, acc_score"
   ]
  },
  {
   "cell_type": "code",
   "execution_count": null,
   "id": "J28ORoU0k-c8",
   "metadata": {
    "colab": {
     "base_uri": "https://localhost:8080/"
    },
    "collapsed": true,
    "executionInfo": {
     "elapsed": 102036,
     "status": "ok",
     "timestamp": 1659785913102,
     "user": {
      "displayName": "lukmanul hakeem",
      "userId": "05969570853284345536"
     },
     "user_tz": -330
    },
    "id": "J28ORoU0k-c8",
    "outputId": "4e5d0ad8-d12f-41ef-ed57-32b8da913f75"
   },
   "outputs": [
    {
     "name": "stdout",
     "output_type": "stream",
     "text": [
      "(0.2486549531585086, 0.2, 0.2)\n",
      "(0.39813386508145526, 0.05, 0.05)\n",
      "(0.2814628089845367, 0.25, 0.25)\n",
      "(0.23793220211445126, 0.15, 0.15)\n",
      "(0.5326009255427216, 0.0, 0.0)\n",
      "(0.5219157981865382, 0.0, 0.0)\n",
      "(0.5325633018548478, 0.0, 0.0)\n",
      "(0.27239550020693026, 0.2, 0.2)\n",
      "(0.3148726438165469, 0.1, 0.1)\n"
     ]
    },
    {
     "name": "stderr",
     "output_type": "stream",
     "text": [
      "C:\\Users\\admin\\anaconda3\\lib\\site-packages\\xgboost\\sklearn.py:1224: UserWarning: The use of label encoder in XGBClassifier is deprecated and will be removed in a future release. To remove this warning, do the following: 1) Pass option use_label_encoder=False when constructing XGBClassifier object; and 2) Encode your labels (y) as integers starting with 0, i.e. 0, 1, 2, ..., [num_class - 1].\n",
      "  warnings.warn(label_encoder_deprecation_msg, UserWarning)\n"
     ]
    },
    {
     "name": "stdout",
     "output_type": "stream",
     "text": [
      "[17:08:41] WARNING: D:\\bld\\xgboost-split_1637426510059\\work\\src\\learner.cc:1115: Starting in XGBoost 1.3.0, the default evaluation metric used with the objective 'multi:softprob' was changed from 'merror' to 'mlogloss'. Explicitly set eval_metric if you'd like to restore the old behavior.\n",
      "(0.39798337032995973, 0.05, 0.05)\n",
      "(0.2820647879905188, 0.15, 0.15)\n"
     ]
    }
   ],
   "source": [
    "## single passing of dataset on all models\n",
    "\n",
    "for name, model in models:\n",
    "  print(train_test_model(model, X_train_smt_sc, y_train_smt, X_test_sc, y_test, None))"
   ]
  },
  {
   "cell_type": "code",
   "execution_count": null,
   "id": "IYTkfjQq6QPc",
   "metadata": {
    "id": "IYTkfjQq6QPc"
   },
   "outputs": [],
   "source": [
    "def selecting_pipeline(model, std_scaling, smot_balancing):\n",
    "  if std_scaling==False and smot_balancing==False:\n",
    "    pipeline = Pipeline(steps=[['model', model]])\n",
    "  elif std_scaling==False and smot_balancing==True:\n",
    "    pipeline = imbpipeline(steps=[['smote', SMOTE()],\n",
    "                                  ['model', model]])\n",
    "  elif std_scaling==True and smot_balancing==False:\n",
    "    pipeline = Pipeline(steps=[['scaler', StandardScaler()],\n",
    "                               ['model', model]])\n",
    "  elif std_scaling==True and smot_balancing==True:\n",
    "    pipeline = imbpipeline(steps=[['smote', SMOTE()],\n",
    "                                  ['scaler', StandardScaler()],\n",
    "                                  ['model', model]])\n",
    "  return pipeline\n",
    "\n",
    "def selecting_model(X, y, score, std_scaling=False, smot_balancing=False):\n",
    "  names=[]\n",
    "  results=[]\n",
    "  msgs = []\n",
    "  for name, model in models:\n",
    "    pipeline = selecting_pipeline(model, std_scaling, smot_balancing)\n",
    "    kfold = StratifiedKFold(n_splits=5, shuffle=True)\n",
    "    cv_result = cross_val_score(pipeline, X, y, scoring=score, cv=kfold)\n",
    "    names.append(name)\n",
    "    results.append(cv_result)\n",
    "    msg = '%s: %f (%f)'%(name, cv_result.mean(), cv_result.std())\n",
    "    msgs.append(msg)\n",
    "  return msgs"
   ]
  },
  {
   "cell_type": "code",
   "execution_count": null,
   "id": "Yl9LkwHhN1er",
   "metadata": {
    "colab": {
     "base_uri": "https://localhost:8080/"
    },
    "collapsed": true,
    "executionInfo": {
     "elapsed": 432099,
     "status": "ok",
     "timestamp": 1659371610218,
     "user": {
      "displayName": "lukmanul hakeem",
      "userId": "05969570853284345536"
     },
     "user_tz": -330
    },
    "id": "Yl9LkwHhN1er",
    "outputId": "cf2a7f6c-64f1-4d50-b98c-1088e03b0899"
   },
   "outputs": [
    {
     "name": "stderr",
     "output_type": "stream",
     "text": [
      "C:\\Users\\admin\\anaconda3\\lib\\site-packages\\xgboost\\sklearn.py:1224: UserWarning: The use of label encoder in XGBClassifier is deprecated and will be removed in a future release. To remove this warning, do the following: 1) Pass option use_label_encoder=False when constructing XGBClassifier object; and 2) Encode your labels (y) as integers starting with 0, i.e. 0, 1, 2, ..., [num_class - 1].\n",
      "  warnings.warn(label_encoder_deprecation_msg, UserWarning)\n"
     ]
    },
    {
     "name": "stdout",
     "output_type": "stream",
     "text": [
      "[10:02:10] WARNING: D:\\bld\\xgboost-split_1637426510059\\work\\src\\learner.cc:1115: Starting in XGBoost 1.3.0, the default evaluation metric used with the objective 'multi:softprob' was changed from 'merror' to 'mlogloss'. Explicitly set eval_metric if you'd like to restore the old behavior.\n"
     ]
    },
    {
     "name": "stderr",
     "output_type": "stream",
     "text": [
      "C:\\Users\\admin\\anaconda3\\lib\\site-packages\\xgboost\\sklearn.py:1224: UserWarning: The use of label encoder in XGBClassifier is deprecated and will be removed in a future release. To remove this warning, do the following: 1) Pass option use_label_encoder=False when constructing XGBClassifier object; and 2) Encode your labels (y) as integers starting with 0, i.e. 0, 1, 2, ..., [num_class - 1].\n",
      "  warnings.warn(label_encoder_deprecation_msg, UserWarning)\n"
     ]
    },
    {
     "name": "stdout",
     "output_type": "stream",
     "text": [
      "[10:02:21] WARNING: D:\\bld\\xgboost-split_1637426510059\\work\\src\\learner.cc:1115: Starting in XGBoost 1.3.0, the default evaluation metric used with the objective 'multi:softprob' was changed from 'merror' to 'mlogloss'. Explicitly set eval_metric if you'd like to restore the old behavior.\n"
     ]
    },
    {
     "name": "stderr",
     "output_type": "stream",
     "text": [
      "C:\\Users\\admin\\anaconda3\\lib\\site-packages\\xgboost\\sklearn.py:1224: UserWarning: The use of label encoder in XGBClassifier is deprecated and will be removed in a future release. To remove this warning, do the following: 1) Pass option use_label_encoder=False when constructing XGBClassifier object; and 2) Encode your labels (y) as integers starting with 0, i.e. 0, 1, 2, ..., [num_class - 1].\n",
      "  warnings.warn(label_encoder_deprecation_msg, UserWarning)\n"
     ]
    },
    {
     "name": "stdout",
     "output_type": "stream",
     "text": [
      "[10:02:33] WARNING: D:\\bld\\xgboost-split_1637426510059\\work\\src\\learner.cc:1115: Starting in XGBoost 1.3.0, the default evaluation metric used with the objective 'multi:softprob' was changed from 'merror' to 'mlogloss'. Explicitly set eval_metric if you'd like to restore the old behavior.\n"
     ]
    },
    {
     "name": "stderr",
     "output_type": "stream",
     "text": [
      "C:\\Users\\admin\\anaconda3\\lib\\site-packages\\xgboost\\sklearn.py:1224: UserWarning: The use of label encoder in XGBClassifier is deprecated and will be removed in a future release. To remove this warning, do the following: 1) Pass option use_label_encoder=False when constructing XGBClassifier object; and 2) Encode your labels (y) as integers starting with 0, i.e. 0, 1, 2, ..., [num_class - 1].\n",
      "  warnings.warn(label_encoder_deprecation_msg, UserWarning)\n"
     ]
    },
    {
     "name": "stdout",
     "output_type": "stream",
     "text": [
      "[10:02:44] WARNING: D:\\bld\\xgboost-split_1637426510059\\work\\src\\learner.cc:1115: Starting in XGBoost 1.3.0, the default evaluation metric used with the objective 'multi:softprob' was changed from 'merror' to 'mlogloss'. Explicitly set eval_metric if you'd like to restore the old behavior.\n"
     ]
    },
    {
     "name": "stderr",
     "output_type": "stream",
     "text": [
      "C:\\Users\\admin\\anaconda3\\lib\\site-packages\\xgboost\\sklearn.py:1224: UserWarning: The use of label encoder in XGBClassifier is deprecated and will be removed in a future release. To remove this warning, do the following: 1) Pass option use_label_encoder=False when constructing XGBClassifier object; and 2) Encode your labels (y) as integers starting with 0, i.e. 0, 1, 2, ..., [num_class - 1].\n",
      "  warnings.warn(label_encoder_deprecation_msg, UserWarning)\n"
     ]
    },
    {
     "name": "stdout",
     "output_type": "stream",
     "text": [
      "[10:02:55] WARNING: D:\\bld\\xgboost-split_1637426510059\\work\\src\\learner.cc:1115: Starting in XGBoost 1.3.0, the default evaluation metric used with the objective 'multi:softprob' was changed from 'merror' to 'mlogloss'. Explicitly set eval_metric if you'd like to restore the old behavior.\n"
     ]
    },
    {
     "name": "stderr",
     "output_type": "stream",
     "text": [
      "C:\\Users\\admin\\anaconda3\\lib\\site-packages\\sklearn\\neural_network\\_multilayer_perceptron.py:585: ConvergenceWarning: Stochastic Optimizer: Maximum iterations (200) reached and the optimization hasn't converged yet.\n",
      "  % self.max_iter, ConvergenceWarning)\n",
      "C:\\Users\\admin\\anaconda3\\lib\\site-packages\\sklearn\\neural_network\\_multilayer_perceptron.py:585: ConvergenceWarning: Stochastic Optimizer: Maximum iterations (200) reached and the optimization hasn't converged yet.\n",
      "  % self.max_iter, ConvergenceWarning)\n"
     ]
    }
   ],
   "source": [
    "## Applying 'recall_macro' metrics with cross validation\n",
    "msgs = selecting_model(X, y, 'recall_macro', std_scaling=True, smot_balancing=True)"
   ]
  },
  {
   "cell_type": "code",
   "execution_count": null,
   "id": "k_VhP4bbCTXA",
   "metadata": {
    "colab": {
     "base_uri": "https://localhost:8080/"
    },
    "executionInfo": {
     "elapsed": 551,
     "status": "ok",
     "timestamp": 1659371633450,
     "user": {
      "displayName": "lukmanul hakeem",
      "userId": "05969570853284345536"
     },
     "user_tz": -330
    },
    "id": "k_VhP4bbCTXA",
    "outputId": "4f036641-9444-4caa-a36f-0c33236f3c0d"
   },
   "outputs": [
    {
     "data": {
      "text/plain": [
       "['LR: 0.238462 (0.005722)',\n",
       " 'KNN: 0.050297 (0.002495)',\n",
       " 'SVC: 0.242155 (0.008386)',\n",
       " 'GNB: 0.224984 (0.004826)',\n",
       " 'DT: 0.007934 (0.000486)',\n",
       " 'BC: 0.011735 (0.003041)',\n",
       " 'RF: 0.008064 (0.001910)',\n",
       " 'ABC: 0.252924 (0.005603)',\n",
       " 'GBC: 0.197584 (0.006899)',\n",
       " 'XGBC: 0.093522 (0.005048)',\n",
       " 'MLPC: 0.243848 (0.008870)']"
      ]
     },
     "execution_count": 42,
     "metadata": {},
     "output_type": "execute_result"
    }
   ],
   "source": [
    "msgs"
   ]
  },
  {
   "cell_type": "code",
   "execution_count": null,
   "id": "vm5gV1jDQbag",
   "metadata": {
    "collapsed": true,
    "id": "vm5gV1jDQbag",
    "outputId": "dbce4bc3-6507-4376-8613-764f0f933cce"
   },
   "outputs": [
    {
     "name": "stderr",
     "output_type": "stream",
     "text": [
      "C:\\Users\\admin\\anaconda3\\lib\\site-packages\\xgboost\\sklearn.py:1224: UserWarning: The use of label encoder in XGBClassifier is deprecated and will be removed in a future release. To remove this warning, do the following: 1) Pass option use_label_encoder=False when constructing XGBClassifier object; and 2) Encode your labels (y) as integers starting with 0, i.e. 0, 1, 2, ..., [num_class - 1].\n",
      "  warnings.warn(label_encoder_deprecation_msg, UserWarning)\n"
     ]
    },
    {
     "name": "stdout",
     "output_type": "stream",
     "text": [
      "[10:32:14] WARNING: D:\\bld\\xgboost-split_1637426510059\\work\\src\\learner.cc:1115: Starting in XGBoost 1.3.0, the default evaluation metric used with the objective 'multi:softprob' was changed from 'merror' to 'mlogloss'. Explicitly set eval_metric if you'd like to restore the old behavior.\n"
     ]
    },
    {
     "name": "stderr",
     "output_type": "stream",
     "text": [
      "C:\\Users\\admin\\anaconda3\\lib\\site-packages\\xgboost\\sklearn.py:1224: UserWarning: The use of label encoder in XGBClassifier is deprecated and will be removed in a future release. To remove this warning, do the following: 1) Pass option use_label_encoder=False when constructing XGBClassifier object; and 2) Encode your labels (y) as integers starting with 0, i.e. 0, 1, 2, ..., [num_class - 1].\n",
      "  warnings.warn(label_encoder_deprecation_msg, UserWarning)\n"
     ]
    },
    {
     "name": "stdout",
     "output_type": "stream",
     "text": [
      "[10:32:20] WARNING: D:\\bld\\xgboost-split_1637426510059\\work\\src\\learner.cc:1115: Starting in XGBoost 1.3.0, the default evaluation metric used with the objective 'multi:softprob' was changed from 'merror' to 'mlogloss'. Explicitly set eval_metric if you'd like to restore the old behavior.\n"
     ]
    },
    {
     "name": "stderr",
     "output_type": "stream",
     "text": [
      "C:\\Users\\admin\\anaconda3\\lib\\site-packages\\xgboost\\sklearn.py:1224: UserWarning: The use of label encoder in XGBClassifier is deprecated and will be removed in a future release. To remove this warning, do the following: 1) Pass option use_label_encoder=False when constructing XGBClassifier object; and 2) Encode your labels (y) as integers starting with 0, i.e. 0, 1, 2, ..., [num_class - 1].\n",
      "  warnings.warn(label_encoder_deprecation_msg, UserWarning)\n"
     ]
    },
    {
     "name": "stdout",
     "output_type": "stream",
     "text": [
      "[10:32:25] WARNING: D:\\bld\\xgboost-split_1637426510059\\work\\src\\learner.cc:1115: Starting in XGBoost 1.3.0, the default evaluation metric used with the objective 'multi:softprob' was changed from 'merror' to 'mlogloss'. Explicitly set eval_metric if you'd like to restore the old behavior.\n"
     ]
    },
    {
     "name": "stderr",
     "output_type": "stream",
     "text": [
      "C:\\Users\\admin\\anaconda3\\lib\\site-packages\\xgboost\\sklearn.py:1224: UserWarning: The use of label encoder in XGBClassifier is deprecated and will be removed in a future release. To remove this warning, do the following: 1) Pass option use_label_encoder=False when constructing XGBClassifier object; and 2) Encode your labels (y) as integers starting with 0, i.e. 0, 1, 2, ..., [num_class - 1].\n",
      "  warnings.warn(label_encoder_deprecation_msg, UserWarning)\n"
     ]
    },
    {
     "name": "stdout",
     "output_type": "stream",
     "text": [
      "[10:32:30] WARNING: D:\\bld\\xgboost-split_1637426510059\\work\\src\\learner.cc:1115: Starting in XGBoost 1.3.0, the default evaluation metric used with the objective 'multi:softprob' was changed from 'merror' to 'mlogloss'. Explicitly set eval_metric if you'd like to restore the old behavior.\n"
     ]
    },
    {
     "name": "stderr",
     "output_type": "stream",
     "text": [
      "C:\\Users\\admin\\anaconda3\\lib\\site-packages\\xgboost\\sklearn.py:1224: UserWarning: The use of label encoder in XGBClassifier is deprecated and will be removed in a future release. To remove this warning, do the following: 1) Pass option use_label_encoder=False when constructing XGBClassifier object; and 2) Encode your labels (y) as integers starting with 0, i.e. 0, 1, 2, ..., [num_class - 1].\n",
      "  warnings.warn(label_encoder_deprecation_msg, UserWarning)\n"
     ]
    },
    {
     "name": "stdout",
     "output_type": "stream",
     "text": [
      "[10:32:36] WARNING: D:\\bld\\xgboost-split_1637426510059\\work\\src\\learner.cc:1115: Starting in XGBoost 1.3.0, the default evaluation metric used with the objective 'multi:softprob' was changed from 'merror' to 'mlogloss'. Explicitly set eval_metric if you'd like to restore the old behavior.\n"
     ]
    }
   ],
   "source": [
    "## Applying 'accuracy' metrics with cross validation\n",
    "msgs = selecting_model(X, y, 'accuracy', std_scaling=True, smot_balancing=False)"
   ]
  },
  {
   "cell_type": "code",
   "execution_count": null,
   "id": "zpMEnjAEKysb",
   "metadata": {
    "id": "zpMEnjAEKysb",
    "outputId": "2f4d1dc3-545c-4729-8a0e-6dccb944c688"
   },
   "outputs": [
    {
     "data": {
      "text/plain": [
       "['LR: 0.234969 (0.004036)',\n",
       " 'KNN: 0.043551 (0.001950)',\n",
       " 'SVC: 0.234006 (0.004580)',\n",
       " 'GNB: 0.216855 (0.003552)',\n",
       " 'DT: 0.005588 (0.001445)',\n",
       " 'BC: 0.008158 (0.001294)',\n",
       " 'RF: 0.008993 (0.002000)',\n",
       " 'ABC: 0.234455 (0.005149)',\n",
       " 'GBC: 0.151658 (0.003207)',\n",
       " 'XGBC: 0.056398 (0.003096)',\n",
       " 'MLPC: 0.220517 (0.003517)']"
      ]
     },
     "execution_count": 45,
     "metadata": {},
     "output_type": "execute_result"
    }
   ],
   "source": [
    "msgs"
   ]
  },
  {
   "cell_type": "markdown",
   "id": "JWzpkiBKlUvR",
   "metadata": {
    "id": "JWzpkiBKlUvR"
   },
   "source": [
    "### Trying with ANN"
   ]
  },
  {
   "cell_type": "code",
   "execution_count": null,
   "id": "y0u_aiWCd7iY",
   "metadata": {
    "id": "y0u_aiWCd7iY"
   },
   "outputs": [],
   "source": [
    "y_train_smt = y_train_smt.to_numpy()"
   ]
  },
  {
   "cell_type": "code",
   "execution_count": null,
   "id": "tlwCzw-SiqUf",
   "metadata": {
    "colab": {
     "base_uri": "https://localhost:8080/"
    },
    "executionInfo": {
     "elapsed": 607,
     "status": "ok",
     "timestamp": 1659846177123,
     "user": {
      "displayName": "lukmanul hakeem",
      "userId": "05969570853284345536"
     },
     "user_tz": -330
    },
    "id": "tlwCzw-SiqUf",
    "outputId": "516601e1-133c-4aa4-ad8d-9cb80c7547e3",
    "scrolled": true
   },
   "outputs": [
    {
     "data": {
      "text/plain": [
       "array([6, 4, 4, ..., 6, 6, 6])"
      ]
     },
     "execution_count": 59,
     "metadata": {},
     "output_type": "execute_result"
    }
   ],
   "source": [
    "y_train_smt"
   ]
  },
  {
   "cell_type": "code",
   "execution_count": null,
   "id": "s2OGEF9fTQu_",
   "metadata": {
    "id": "s2OGEF9fTQu_"
   },
   "outputs": [],
   "source": [
    "import tensorflow as tf"
   ]
  },
  {
   "cell_type": "code",
   "execution_count": null,
   "id": "ja1a67R0GGYn",
   "metadata": {
    "id": "ja1a67R0GGYn"
   },
   "outputs": [],
   "source": [
    "ann = tf.keras.models.Sequential()\n",
    "\n",
    "ann.add(tf.keras.layers.Dense(units=8, activation='relu'))\n",
    "ann.add(tf.keras.layers.Dense(units=16, activation='relu'))\n",
    "ann.add(tf.keras.layers.Dense(units=32, activation='relu'))\n",
    "ann.add(tf.keras.layers.Dense(units=64, activation='relu'))\n",
    "\n",
    "ann.add(tf.keras.layers.Dense(7, activation='softmax'))"
   ]
  },
  {
   "cell_type": "code",
   "execution_count": null,
   "id": "rCX5EZ_BHugv",
   "metadata": {
    "id": "rCX5EZ_BHugv"
   },
   "outputs": [],
   "source": [
    "ann.compile(loss='categorical_crossentropy', optimizer='adam', metrics=['accuracy'])"
   ]
  },
  {
   "cell_type": "code",
   "execution_count": null,
   "id": "Ps5xoMAxiOrG",
   "metadata": {
    "colab": {
     "base_uri": "https://localhost:8080/"
    },
    "executionInfo": {
     "elapsed": 8,
     "status": "ok",
     "timestamp": 1659846718908,
     "user": {
      "displayName": "lukmanul hakeem",
      "userId": "05969570853284345536"
     },
     "user_tz": -330
    },
    "id": "Ps5xoMAxiOrG",
    "outputId": "94cc4cbb-f191-4962-83c1-1bbb9d5e57d4"
   },
   "outputs": [
    {
     "data": {
      "text/plain": [
       "(26579,)"
      ]
     },
     "execution_count": 63,
     "metadata": {},
     "output_type": "execute_result"
    }
   ],
   "source": [
    "y_train_smt.shape"
   ]
  },
  {
   "cell_type": "code",
   "execution_count": null,
   "id": "1F5b_qftjwlg",
   "metadata": {
    "colab": {
     "base_uri": "https://localhost:8080/"
    },
    "executionInfo": {
     "elapsed": 658,
     "status": "ok",
     "timestamp": 1659846724637,
     "user": {
      "displayName": "lukmanul hakeem",
      "userId": "05969570853284345536"
     },
     "user_tz": -330
    },
    "id": "1F5b_qftjwlg",
    "outputId": "02a0b699-900c-417a-c780-fcafdfaf5cdf"
   },
   "outputs": [
    {
     "data": {
      "text/plain": [
       "(26579, 7)"
      ]
     },
     "execution_count": 64,
     "metadata": {},
     "output_type": "execute_result"
    }
   ],
   "source": [
    "## Converting each output value into one-hot vectors.\n",
    "\n",
    "y_train_oht = tf.keras.utils.to_categorical(y_train_smt)\n",
    "y_test_oht = tf.keras.utils.to_categorical(y_test)\n",
    "y_train_oht.shape"
   ]
  },
  {
   "cell_type": "code",
   "execution_count": null,
   "id": "mRJ00zGQKysd",
   "metadata": {
    "id": "mRJ00zGQKysd",
    "outputId": "87883abb-8448-4f36-b421-ccf73f5a2f63"
   },
   "outputs": [
    {
     "name": "stdout",
     "output_type": "stream",
     "text": [
      "Epoch 1/50\n",
      "WARNING:tensorflow:AutoGraph could not transform <function Model.make_train_function.<locals>.train_function at 0x0000023B6FE94438> and will run it as-is.\n",
      "Please report this to the TensorFlow team. When filing the bug, set the verbosity to 10 (on Linux, `export AUTOGRAPH_VERBOSITY=10`) and attach the full output.\n",
      "Cause: 'arguments' object has no attribute 'posonlyargs'\n",
      "To silence this warning, decorate the function with @tf.autograph.experimental.do_not_convert\n",
      "WARNING: AutoGraph could not transform <function Model.make_train_function.<locals>.train_function at 0x0000023B6FE94438> and will run it as-is.\n",
      "Please report this to the TensorFlow team. When filing the bug, set the verbosity to 10 (on Linux, `export AUTOGRAPH_VERBOSITY=10`) and attach the full output.\n",
      "Cause: 'arguments' object has no attribute 'posonlyargs'\n",
      "To silence this warning, decorate the function with @tf.autograph.experimental.do_not_convert\n",
      "646/665 [============================>.] - ETA: 0s - loss: 1.6817 - accuracy: 0.2867WARNING:tensorflow:AutoGraph could not transform <function Model.make_test_function.<locals>.test_function at 0x0000023B70097B88> and will run it as-is.\n",
      "Please report this to the TensorFlow team. When filing the bug, set the verbosity to 10 (on Linux, `export AUTOGRAPH_VERBOSITY=10`) and attach the full output.\n",
      "Cause: 'arguments' object has no attribute 'posonlyargs'\n",
      "To silence this warning, decorate the function with @tf.autograph.experimental.do_not_convert\n",
      "WARNING: AutoGraph could not transform <function Model.make_test_function.<locals>.test_function at 0x0000023B70097B88> and will run it as-is.\n",
      "Please report this to the TensorFlow team. When filing the bug, set the verbosity to 10 (on Linux, `export AUTOGRAPH_VERBOSITY=10`) and attach the full output.\n",
      "Cause: 'arguments' object has no attribute 'posonlyargs'\n",
      "To silence this warning, decorate the function with @tf.autograph.experimental.do_not_convert\n",
      "665/665 [==============================] - 4s 4ms/step - loss: 1.6805 - accuracy: 0.2869 - val_loss: 2.0510 - val_accuracy: 0.0058\n",
      "Epoch 2/50\n",
      "665/665 [==============================] - 2s 4ms/step - loss: 1.6359 - accuracy: 0.3016 - val_loss: 2.0760 - val_accuracy: 5.6433e-04\n",
      "Epoch 3/50\n",
      "665/665 [==============================] - 3s 5ms/step - loss: 1.6308 - accuracy: 0.3011 - val_loss: 2.0945 - val_accuracy: 7.5245e-04\n",
      "Epoch 4/50\n",
      "665/665 [==============================] - 3s 4ms/step - loss: 1.6275 - accuracy: 0.3020 - val_loss: 1.9878 - val_accuracy: 0.0032\n",
      "Epoch 5/50\n",
      "665/665 [==============================] - 3s 4ms/step - loss: 1.6255 - accuracy: 0.3008 - val_loss: 2.1110 - val_accuracy: 3.7622e-04\n",
      "Epoch 6/50\n",
      "665/665 [==============================] - 3s 4ms/step - loss: 1.6232 - accuracy: 0.3011 - val_loss: 1.9712 - val_accuracy: 0.0019\n",
      "Epoch 7/50\n",
      "665/665 [==============================] - 3s 4ms/step - loss: 1.6219 - accuracy: 0.3014 - val_loss: 2.0758 - val_accuracy: 0.0087\n",
      "Epoch 8/50\n",
      "665/665 [==============================] - 2s 4ms/step - loss: 1.6205 - accuracy: 0.3018 - val_loss: 2.0497 - val_accuracy: 5.6433e-04\n",
      "Epoch 9/50\n",
      "665/665 [==============================] - 2s 3ms/step - loss: 1.6202 - accuracy: 0.3008 - val_loss: 1.8990 - val_accuracy: 0.0342\n",
      "Epoch 10/50\n",
      "665/665 [==============================] - 3s 4ms/step - loss: 1.6180 - accuracy: 0.3036 - val_loss: 2.0742 - val_accuracy: 0.0000e+00\n",
      "Epoch 11/50\n",
      "665/665 [==============================] - 3s 4ms/step - loss: 1.6166 - accuracy: 0.3012 - val_loss: 2.1836 - val_accuracy: 9.4056e-04\n",
      "Epoch 12/50\n",
      "665/665 [==============================] - 3s 4ms/step - loss: 1.6165 - accuracy: 0.3009 - val_loss: 2.0618 - val_accuracy: 0.0045\n",
      "Epoch 13/50\n",
      "665/665 [==============================] - 2s 4ms/step - loss: 1.6144 - accuracy: 0.3021 - val_loss: 2.0926 - val_accuracy: 0.0100\n",
      "Epoch 14/50\n",
      "665/665 [==============================] - 3s 4ms/step - loss: 1.6142 - accuracy: 0.3020 - val_loss: 1.9644 - val_accuracy: 0.0261\n",
      "Epoch 15/50\n",
      "665/665 [==============================] - 2s 4ms/step - loss: 1.6133 - accuracy: 0.3033 - val_loss: 2.0624 - val_accuracy: 0.0000e+00\n",
      "Epoch 16/50\n",
      "665/665 [==============================] - 2s 4ms/step - loss: 1.6131 - accuracy: 0.3025 - val_loss: 2.0722 - val_accuracy: 1.8811e-04\n",
      "Epoch 17/50\n",
      "665/665 [==============================] - 2s 3ms/step - loss: 1.6127 - accuracy: 0.3047 - val_loss: 2.0944 - val_accuracy: 0.0023\n",
      "Epoch 18/50\n",
      "665/665 [==============================] - 2s 4ms/step - loss: 1.6119 - accuracy: 0.3030 - val_loss: 2.0997 - val_accuracy: 0.0023\n",
      "Epoch 19/50\n",
      "665/665 [==============================] - 2s 3ms/step - loss: 1.6109 - accuracy: 0.3032 - val_loss: 1.9804 - val_accuracy: 0.0134\n",
      "Epoch 20/50\n",
      "665/665 [==============================] - 2s 3ms/step - loss: 1.6102 - accuracy: 0.3018 - val_loss: 2.0205 - val_accuracy: 0.0169\n",
      "Epoch 21/50\n",
      "665/665 [==============================] - 3s 4ms/step - loss: 1.6099 - accuracy: 0.3052 - val_loss: 2.0372 - val_accuracy: 0.0141\n",
      "Epoch 22/50\n",
      "665/665 [==============================] - 3s 4ms/step - loss: 1.6098 - accuracy: 0.3017 - val_loss: 2.0515 - val_accuracy: 0.0169\n",
      "Epoch 23/50\n",
      "665/665 [==============================] - 3s 4ms/step - loss: 1.6085 - accuracy: 0.3040 - val_loss: 2.0998 - val_accuracy: 0.0177\n",
      "Epoch 24/50\n",
      "665/665 [==============================] - 2s 3ms/step - loss: 1.6080 - accuracy: 0.3043 - val_loss: 2.0842 - val_accuracy: 0.0404\n",
      "Epoch 25/50\n",
      "665/665 [==============================] - 2s 4ms/step - loss: 1.6082 - accuracy: 0.3048 - val_loss: 2.0678 - val_accuracy: 0.0198\n",
      "Epoch 26/50\n",
      "665/665 [==============================] - 2s 4ms/step - loss: 1.6067 - accuracy: 0.3057 - val_loss: 2.0494 - val_accuracy: 0.0154\n",
      "Epoch 27/50\n",
      "665/665 [==============================] - 3s 4ms/step - loss: 1.6067 - accuracy: 0.3054 - val_loss: 2.0810 - val_accuracy: 0.0055\n",
      "Epoch 28/50\n",
      "665/665 [==============================] - 3s 4ms/step - loss: 1.6058 - accuracy: 0.3060 - val_loss: 2.0698 - val_accuracy: 0.0117\n",
      "Epoch 29/50\n",
      "665/665 [==============================] - 3s 4ms/step - loss: 1.6065 - accuracy: 0.3040 - val_loss: 2.0632 - val_accuracy: 5.6433e-04\n",
      "Epoch 30/50\n",
      "665/665 [==============================] - 3s 5ms/step - loss: 1.6046 - accuracy: 0.3039 - val_loss: 2.0964 - val_accuracy: 0.0015\n",
      "Epoch 31/50\n",
      "665/665 [==============================] - 2s 4ms/step - loss: 1.6050 - accuracy: 0.3051 - val_loss: 2.0949 - val_accuracy: 0.0036\n",
      "Epoch 32/50\n",
      "665/665 [==============================] - 2s 4ms/step - loss: 1.6044 - accuracy: 0.3061 - val_loss: 2.0084 - val_accuracy: 0.0406\n",
      "Epoch 33/50\n",
      "665/665 [==============================] - 2s 3ms/step - loss: 1.6038 - accuracy: 0.3049 - val_loss: 2.1358 - val_accuracy: 0.0182\n",
      "Epoch 34/50\n",
      "665/665 [==============================] - 2s 3ms/step - loss: 1.6034 - accuracy: 0.3049 - val_loss: 2.1079 - val_accuracy: 3.7622e-04\n",
      "Epoch 35/50\n",
      "665/665 [==============================] - 3s 4ms/step - loss: 1.6035 - accuracy: 0.3072 - val_loss: 2.0971 - val_accuracy: 0.0397\n",
      "Epoch 36/50\n",
      "665/665 [==============================] - 3s 4ms/step - loss: 1.6025 - accuracy: 0.3067 - val_loss: 2.0731 - val_accuracy: 0.0109\n",
      "Epoch 37/50\n",
      "665/665 [==============================] - 3s 4ms/step - loss: 1.6023 - accuracy: 0.3046 - val_loss: 2.0962 - val_accuracy: 0.0149\n",
      "Epoch 38/50\n",
      "665/665 [==============================] - 2s 3ms/step - loss: 1.6019 - accuracy: 0.3055 - val_loss: 2.1154 - val_accuracy: 0.0036\n",
      "Epoch 39/50\n",
      "665/665 [==============================] - 3s 4ms/step - loss: 1.6012 - accuracy: 0.3072 - val_loss: 2.0339 - val_accuracy: 0.0611\n",
      "Epoch 40/50\n",
      "665/665 [==============================] - 2s 3ms/step - loss: 1.6008 - accuracy: 0.3065 - val_loss: 2.1112 - val_accuracy: 0.0145\n",
      "Epoch 41/50\n",
      "665/665 [==============================] - 2s 3ms/step - loss: 1.6006 - accuracy: 0.3051 - val_loss: 2.1545 - val_accuracy: 0.0318\n",
      "Epoch 42/50\n",
      "665/665 [==============================] - 2s 3ms/step - loss: 1.6007 - accuracy: 0.3064 - val_loss: 2.1092 - val_accuracy: 0.0199\n",
      "Epoch 43/50\n",
      "665/665 [==============================] - 2s 3ms/step - loss: 1.6002 - accuracy: 0.3050 - val_loss: 2.0619 - val_accuracy: 0.0066\n",
      "Epoch 44/50\n",
      "665/665 [==============================] - 2s 3ms/step - loss: 1.5993 - accuracy: 0.3046 - val_loss: 2.1050 - val_accuracy: 5.6433e-04\n",
      "Epoch 45/50\n",
      "665/665 [==============================] - 3s 4ms/step - loss: 1.5992 - accuracy: 0.3058 - val_loss: 2.0604 - val_accuracy: 0.0359\n",
      "Epoch 46/50\n",
      "665/665 [==============================] - 2s 3ms/step - loss: 1.5988 - accuracy: 0.3072 - val_loss: 2.1002 - val_accuracy: 0.0410\n",
      "Epoch 47/50\n",
      "665/665 [==============================] - 3s 5ms/step - loss: 1.5988 - accuracy: 0.3072 - val_loss: 2.1073 - val_accuracy: 0.0196\n",
      "Epoch 48/50\n",
      "665/665 [==============================] - 4s 5ms/step - loss: 1.5986 - accuracy: 0.3061 - val_loss: 2.0777 - val_accuracy: 0.0340\n",
      "Epoch 49/50\n",
      "665/665 [==============================] - 3s 5ms/step - loss: 1.5974 - accuracy: 0.3072 - val_loss: 2.1522 - val_accuracy: 3.7622e-04\n",
      "Epoch 50/50\n",
      "665/665 [==============================] - 2s 3ms/step - loss: 1.5965 - accuracy: 0.3071 - val_loss: 2.2118 - val_accuracy: 0.0060\n"
     ]
    }
   ],
   "source": [
    "ann_hist = ann.fit(X_train_smt_sc, y_train_oht, epochs=50, validation_split=0.20)"
   ]
  },
  {
   "cell_type": "code",
   "execution_count": null,
   "id": "HGL_g9k7fGAO",
   "metadata": {
    "colab": {
     "base_uri": "https://localhost:8080/"
    },
    "executionInfo": {
     "elapsed": 116964,
     "status": "ok",
     "timestamp": 1659847327859,
     "user": {
      "displayName": "lukmanul hakeem",
      "userId": "05969570853284345536"
     },
     "user_tz": -330
    },
    "id": "HGL_g9k7fGAO",
    "outputId": "2a4c62c6-13fb-47ab-cca4-17ccafea0209"
   },
   "outputs": [
    {
     "data": {
      "text/plain": [
       "0.006019563414156437"
      ]
     },
     "execution_count": 71,
     "metadata": {},
     "output_type": "execute_result"
    }
   ],
   "source": [
    "ann_hist.history['val_accuracy'][-1]"
   ]
  },
  {
   "cell_type": "markdown",
   "id": "wdeNBuwBgOb6",
   "metadata": {
    "id": "wdeNBuwBgOb6"
   },
   "source": [
    "ANN model not at all performing on this dataset."
   ]
  },
  {
   "cell_type": "markdown",
   "id": "qneUDgTbKyse",
   "metadata": {
    "id": "qneUDgTbKyse"
   },
   "source": [
    "### Findings\n",
    "In this approach, we have done modelling with different preprocessing techiniques on categorical features in order to get better model.\n",
    "- Method 1: Model trained on data having categorical features with whole classes, just encoded with LabelEncoder without minimizing categorical values. Uses different classification algorithms and ANN model. But model performance is very low; maximum of recall score is 0.25. (This is done on this same notebook before these scripts)\n",
    "- Method 2: Model trained on data having categorical features with selected values (reduced the number of unique values). Taken top most repeated values and other taken as separate class named 'other'. Then encoded using LabelEncoder. Uses different classification algorithms and ANN model. But model performance is same as Methode 1, not much improvement in performance."
   ]
  },
  {
   "cell_type": "markdown",
   "id": "DN2uU-FmKyse",
   "metadata": {
    "id": "DN2uU-FmKyse"
   },
   "source": [
    "# Conclusion\n",
    "In Approach 1, models created are very poor in performance. May be data is not good enough for this approach also we had seen from Pearson's correlation very small coefficient values. Next we will try with Approach 2."
   ]
  },
  {
   "cell_type": "code",
   "execution_count": null,
   "id": "tV15RKBPKysf",
   "metadata": {
    "id": "tV15RKBPKysf"
   },
   "outputs": [],
   "source": []
  }
 ],
 "metadata": {
  "accelerator": "GPU",
  "colab": {
   "collapsed_sections": [],
   "name": "part2_approach1_classification_model.ipynb",
   "provenance": []
  },
  "gpuClass": "standard",
  "kernelspec": {
   "display_name": "Python 3",
   "language": "python",
   "name": "python3"
  },
  "language_info": {
   "codemirror_mode": {
    "name": "ipython",
    "version": 3
   },
   "file_extension": ".py",
   "mimetype": "text/x-python",
   "name": "python",
   "nbconvert_exporter": "python",
   "pygments_lexer": "ipython3",
   "version": "3.8.8"
  }
 },
 "nbformat": 4,
 "nbformat_minor": 5
}
